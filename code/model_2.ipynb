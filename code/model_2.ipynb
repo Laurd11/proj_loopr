{
 "cells": [
  {
   "cell_type": "code",
   "execution_count": 15,
   "metadata": {},
   "outputs": [
    {
     "name": "stderr",
     "output_type": "stream",
     "text": [
      "c:\\Users\\laure\\anaconda3\\envs\\loopr_env\\Lib\\site-packages\\torchvision\\io\\image.py:13: UserWarning: Failed to load image Python extension: '[WinError 127] The specified procedure could not be found'If you don't plan on using image functionality from `torchvision.io`, you can ignore this warning. Otherwise, there might be something wrong with your environment. Did you have `libjpeg` or `libpng` installed before building `torchvision` from source?\n",
      "  warn(\n"
     ]
    }
   ],
   "source": [
    "import numpy as np\n",
    "import cv2\n",
    "import os\n",
    "import matplotlib.pyplot as plt\n",
    "import torch\n",
    "from torch import nn\n",
    "# from torch.utils.data import DataLoader\n",
    "from torchvision import datasets, transforms\n",
    "import torch.nn.functional as F\n",
    "import torch.optim as optim\n",
    "from torch.utils.data import TensorDataset, DataLoader, RandomSampler\n",
    "from sklearn.model_selection import train_test_split"
   ]
  },
  {
   "cell_type": "code",
   "execution_count": 2,
   "metadata": {},
   "outputs": [],
   "source": [
    "source_dir = \"C:/Users/laure/Documents/proj_loopr/processed_images\"\n",
    "\n",
    "def retrieve_images(fil_dir):\n",
    "    sample_list = os.listdir(fil_dir)\n",
    "    img_list = np.zeros((len(sample_list),7,40,500))\n",
    "    ind = 0\n",
    "    for file_name in sample_list:\n",
    "        img_list[ind,:,:,:] = np.load(os.path.join(fil_dir,file_name))\n",
    "        ind+=1\n",
    "    return img_list\n",
    "\n",
    "def retrieve_classes(fil_dir):\n",
    "    sample_list = os.listdir(fil_dir)\n",
    "    class_list = np.zeros(len(sample_list))\n",
    "    ind = 0\n",
    "    for file_name in sample_list:\n",
    "        if file_name[5:8] != \"000\":\n",
    "            class_list[ind] = 1 #int(file_name[5:8])\n",
    "        ind+=1\n",
    "    return class_list"
   ]
  },
  {
   "cell_type": "code",
   "execution_count": 13,
   "metadata": {},
   "outputs": [],
   "source": [
    "class Net(nn.Module):\n",
    "    def __init__(self):\n",
    "        super().__init__()\n",
    "        # img size = 7 x 40 x 500\n",
    "        self.conv1 = nn.Conv2d(7, 16, kernel_size =(2,4),stride=(1,2)) #16 x 39 x 249\n",
    "        self.conv2 = nn.Conv2d(16, 32,kernel_size =(2,3),stride=(1,2)) #32 x 38 x 124\n",
    "        self.conv3 = nn.Conv2d(32, 32,kernel_size =(2,4),stride=2) #32 x 19 x 61\n",
    "        self.pool = nn.MaxPool2d(3, stride=2) #32 x 9 x 30\n",
    "\n",
    "        self.fc1 = nn.Linear( 8640, 1920)  \n",
    "        self.fc2 = nn.Linear( 1920, 120)   \n",
    "        self.fc3 = nn.Linear(120, 84)\n",
    "        self.fc4 = nn.Linear(84, 2)\n",
    "\n",
    "    def forward(self, x):\n",
    "        x = F.relu(self.conv1(x))\n",
    "        x = F.relu(self.conv2(x))\n",
    "        x = self.pool(F.relu(self.conv3(x)))\n",
    "        x = torch.flatten(x,1) \n",
    "        x = F.relu(self.fc1(x))\n",
    "        x = F.relu(self.fc2(x))\n",
    "        x = F.relu(self.fc3(x))\n",
    "        x = F.softmax(self.fc4(x), dim=1)\n",
    "        return x\n",
    "\n",
    "net = Net()"
   ]
  },
  {
   "cell_type": "code",
   "execution_count": 4,
   "metadata": {},
   "outputs": [],
   "source": [
    "xs = retrieve_images(source_dir)"
   ]
  },
  {
   "cell_type": "code",
   "execution_count": 5,
   "metadata": {},
   "outputs": [],
   "source": [
    "ys = retrieve_classes(source_dir)"
   ]
  },
  {
   "cell_type": "code",
   "execution_count": 6,
   "metadata": {},
   "outputs": [],
   "source": [
    "labels = np.zeros((xs.shape[0], 2))\n",
    "labels[:,1] = ys\n",
    "labels[np.argwhere(ys==0).flatten(),0] = 1\n"
   ]
  },
  {
   "cell_type": "code",
   "execution_count": 7,
   "metadata": {},
   "outputs": [],
   "source": [
    "X_train, X_test, y_train, y_test = train_test_split(xs, labels, test_size=0.1, random_state=81)\n",
    "X_train, X_val, y_train, y_val = train_test_split(X_train, y_train, test_size=0.2, random_state=81)\n"
   ]
  },
  {
   "cell_type": "code",
   "execution_count": 8,
   "metadata": {},
   "outputs": [
    {
     "data": {
      "text/plain": [
       "17.0"
      ]
     },
     "execution_count": 8,
     "metadata": {},
     "output_type": "execute_result"
    }
   ],
   "source": [
    "np.sum(y_val[:,1])"
   ]
  },
  {
   "cell_type": "code",
   "execution_count": 9,
   "metadata": {},
   "outputs": [],
   "source": [
    "criterion  = nn.CrossEntropyLoss() #DiceLoss()\n",
    "optimizer = optim.Adam(net.parameters(), lr=5e-5)"
   ]
  },
  {
   "cell_type": "code",
   "execution_count": null,
   "metadata": {},
   "outputs": [],
   "source": []
  },
  {
   "cell_type": "code",
   "execution_count": 11,
   "metadata": {},
   "outputs": [],
   "source": [
    "train_dataset = TensorDataset(torch.from_numpy(X_train).type(torch.FloatTensor), torch.from_numpy(y_train))\n",
    "train_loader = DataLoader(train_dataset,batch_size=5,sampler = RandomSampler(train_dataset, replacement=False)) \n",
    "val_dataset = TensorDataset(torch.from_numpy(X_val).type(torch.FloatTensor), torch.from_numpy(y_val))\n",
    "val_loader = DataLoader(val_dataset, batch_size=5) "
   ]
  },
  {
   "cell_type": "code",
   "execution_count": 14,
   "metadata": {},
   "outputs": [
    {
     "name": "stdout",
     "output_type": "stream",
     "text": [
      "Epoch 1: \n",
      " Training Loss is: 24.92071809768677\n",
      " Validation Loss is: 6.073798894882202\n",
      "Epoch 2: \n",
      " Training Loss is: 24.860268485546108\n",
      " Validation Loss is: 6.073798894882202\n",
      "Epoch 3: \n",
      " Training Loss is: 24.851715189218517\n",
      " Validation Loss is: 6.073798894882202\n",
      "Epoch 4: \n",
      " Training Loss is: 24.802838939428334\n",
      " Validation Loss is: 6.073798894882202\n",
      "Epoch 5: \n",
      " Training Loss is: 24.856621450185774\n",
      " Validation Loss is: 6.073798894882202\n",
      "Epoch 6: \n",
      " Training Loss is: 24.931165015697474\n",
      " Validation Loss is: 6.073798894882202\n",
      "Epoch 7: \n",
      " Training Loss is: 24.788185679912562\n",
      " Validation Loss is: 6.073798894882202\n",
      "Epoch 8: \n",
      " Training Loss is: 24.913900667428972\n",
      " Validation Loss is: 6.073798894882202\n",
      "Epoch 9: \n",
      " Training Loss is: 24.906549620628358\n",
      " Validation Loss is: 6.073798894882202\n",
      "Epoch 10: \n",
      " Training Loss is: 24.840916591882703\n",
      " Validation Loss is: 6.073798894882202\n",
      "Epoch 11: \n",
      " Training Loss is: 24.785520768165586\n",
      " Validation Loss is: 6.073798894882202\n",
      "Epoch 12: \n",
      " Training Loss is: 24.89849063754081\n",
      " Validation Loss is: 6.073798894882202\n",
      "Epoch 13: \n",
      " Training Loss is: 24.915952831506733\n",
      " Validation Loss is: 6.073798894882202\n",
      "Epoch 14: \n",
      " Training Loss is: 24.861616849899292\n",
      " Validation Loss is: 6.073798894882202\n",
      "Epoch 15: \n",
      " Training Loss is: 24.79663940668106\n",
      " Validation Loss is: 6.073798894882202\n",
      "Epoch 16: \n",
      " Training Loss is: 24.8901434659958\n",
      " Validation Loss is: 6.073798894882202\n",
      "Epoch 17: \n",
      " Training Loss is: 24.796501576900482\n",
      " Validation Loss is: 6.073798894882202\n",
      "Epoch 18: \n",
      " Training Loss is: 24.90789146423341\n",
      " Validation Loss is: 6.073798894882202\n",
      "Epoch 19: \n",
      " Training Loss is: 24.85163609981537\n",
      " Validation Loss is: 6.073798894882202\n",
      "Epoch 20: \n",
      " Training Loss is: 24.847466802597054\n",
      " Validation Loss is: 6.073798894882202\n",
      "Epoch 21: \n",
      " Training Loss is: 24.86242964863777\n",
      " Validation Loss is: 6.073798894882202\n",
      "Epoch 22: \n",
      " Training Loss is: 24.801822650432577\n",
      " Validation Loss is: 6.073798894882202\n",
      "Epoch 23: \n",
      " Training Loss is: 24.85406602025032\n",
      " Validation Loss is: 6.073798894882202\n",
      "Epoch 24: \n",
      " Training Loss is: 24.851781052350994\n",
      " Validation Loss is: 6.073798894882202\n",
      "Epoch 25: \n",
      " Training Loss is: 24.786586296558383\n",
      " Validation Loss is: 6.073798894882202\n",
      "Epoch 26: \n",
      " Training Loss is: 24.78741289377213\n",
      " Validation Loss is: 6.073798894882202\n",
      "Epoch 27: \n",
      " Training Loss is: 24.91860275864601\n",
      " Validation Loss is: 6.073798894882202\n",
      "Epoch 28: \n",
      " Training Loss is: 24.79879713058472\n",
      " Validation Loss is: 6.073798894882202\n",
      "Epoch 29: \n",
      " Training Loss is: 24.78360283374786\n",
      " Validation Loss is: 6.073798894882202\n",
      "Epoch 30: \n",
      " Training Loss is: 24.919618999958033\n",
      " Validation Loss is: 6.073798894882202\n",
      "Epoch 31: \n",
      " Training Loss is: 24.77861321568489\n",
      " Validation Loss is: 6.073798894882202\n",
      "Epoch 32: \n",
      " Training Loss is: 24.902039533853536\n",
      " Validation Loss is: 6.073798894882202\n",
      "Epoch 33: \n",
      " Training Loss is: 24.776367145776756\n",
      " Validation Loss is: 6.073798894882202\n",
      "Epoch 34: \n",
      " Training Loss is: 24.789136219024655\n",
      " Validation Loss is: 6.073798894882202\n",
      "Epoch 35: \n",
      " Training Loss is: 24.843024420738214\n",
      " Validation Loss is: 6.073798894882202\n",
      "Epoch 36: \n",
      " Training Loss is: 24.85179612636566\n",
      " Validation Loss is: 6.073798894882202\n",
      "Epoch 37: \n",
      " Training Loss is: 24.85503734350204\n",
      " Validation Loss is: 6.073798894882202\n",
      "Epoch 38: \n",
      " Training Loss is: 24.831419563293462\n",
      " Validation Loss is: 6.073798894882202\n",
      "Epoch 39: \n",
      " Training Loss is: 24.905203735828394\n",
      " Validation Loss is: 6.073798894882202\n",
      "Epoch 40: \n",
      " Training Loss is: 24.85313284993172\n",
      " Validation Loss is: 6.073798894882202\n",
      "Epoch 41: \n",
      " Training Loss is: 24.795004260540004\n",
      " Validation Loss is: 6.073798894882202\n",
      "Epoch 42: \n",
      " Training Loss is: 24.908351314067836\n",
      " Validation Loss is: 6.073798894882202\n",
      "Epoch 43: \n",
      " Training Loss is: 24.84736280441284\n",
      " Validation Loss is: 6.073798894882202\n",
      "Epoch 44: \n",
      " Training Loss is: 24.789231091737744\n",
      " Validation Loss is: 6.073798894882202\n",
      "Epoch 45: \n",
      " Training Loss is: 24.900769865512846\n",
      " Validation Loss is: 6.073798894882202\n",
      "Epoch 46: \n",
      " Training Loss is: 24.903011274337775\n",
      " Validation Loss is: 6.073798894882202\n",
      "Epoch 47: \n",
      " Training Loss is: 24.840234637260433\n",
      " Validation Loss is: 6.073798894882202\n",
      "Epoch 48: \n",
      " Training Loss is: 24.852398020029067\n",
      " Validation Loss is: 6.073798894882202\n",
      "Epoch 49: \n",
      " Training Loss is: 24.90567599534989\n",
      " Validation Loss is: 6.073798894882202\n",
      "Epoch 50: \n",
      " Training Loss is: 24.93167005181313\n",
      " Validation Loss is: 6.073798894882202\n",
      "Epoch 51: \n",
      " Training Loss is: 24.803697723150247\n",
      " Validation Loss is: 6.073798894882202\n",
      "Epoch 52: \n",
      " Training Loss is: 24.848725187778477\n",
      " Validation Loss is: 6.073798894882202\n",
      "Epoch 53: \n",
      " Training Loss is: 24.93195328712463\n",
      " Validation Loss is: 6.073798894882202\n",
      "Epoch 54: \n",
      " Training Loss is: 24.79880670309068\n",
      " Validation Loss is: 6.073798894882202\n",
      "Epoch 55: \n",
      " Training Loss is: 24.800176435709005\n",
      " Validation Loss is: 6.073798894882202\n",
      "Epoch 56: \n",
      " Training Loss is: 24.78271223902703\n",
      " Validation Loss is: 6.073798894882202\n",
      "Epoch 57: \n",
      " Training Loss is: 24.845728683471684\n",
      " Validation Loss is: 6.073798894882202\n",
      "Epoch 58: \n",
      " Training Loss is: 24.855180108547213\n",
      " Validation Loss is: 6.073798894882202\n",
      "Epoch 59: \n",
      " Training Loss is: 24.91982032060623\n",
      " Validation Loss is: 6.073798894882202\n",
      "Epoch 60: \n",
      " Training Loss is: 24.84831553697586\n",
      " Validation Loss is: 6.073798894882202\n",
      "Finished Training\n"
     ]
    }
   ],
   "source": [
    "# batch_size=5\n",
    "total_epochs = 60\n",
    "losses = np.zeros(total_epochs)\n",
    "val_losses = np.zeros(total_epochs)\n",
    "for epoch in range(total_epochs):  # loop over the dataset multiple times\n",
    "\n",
    "    running_loss = 0.0\n",
    "\n",
    "    # rand_list = np.arange(mask_list.shape[0])\n",
    "    # np.random.shuffle(rand_list)\n",
    "\n",
    "    # new_img_list = img_list[rand_list,:,:]\n",
    "    # new_labels = labels[rand_list,:]\n",
    "    \n",
    "    for batch, (inputs, lab) in enumerate(train_loader):\n",
    "        # get the inputs; data is a list of [inputs, labels]\n",
    "        # inputs, labels = data\n",
    "        # inputs = torch.from_numpy(new_img_list[i*batch_size:(i+1)*batch_size,:,:].reshape(batch_size,1,32,32))\n",
    "        # lab = torch.tensor(new_labels[i*batch_size:(i+1)*batch_size,:])\n",
    "\n",
    "        # zero the parameter gradients\n",
    "        optimizer.zero_grad()\n",
    "\n",
    "        # forward + backward + optimize\n",
    "        outputs = net(inputs)\n",
    "        loss = criterion(outputs, lab)\n",
    "        loss.backward()\n",
    "        optimizer.step()\n",
    "\n",
    "        # print statistics\n",
    "        running_loss += loss.item()\n",
    "        # if i % 2000 == 1999:    # print every 2000 mini-batches\n",
    "        #     print(f'[{epoch + 1}, {i + 1:5d}] loss: {running_loss / 2000:.3f}')\n",
    "        #     running_loss = 0.0 \n",
    "    \n",
    "    with torch.no_grad():\n",
    "        for batch, (val_inputs, val_labels) in enumerate(val_loader):#val_sample in test_loader:\n",
    "        #         #val_features, val_labels = next(iter(test_loader))\n",
    "            val_outputs = net(val_inputs)\n",
    "            valloss = criterion(val_outputs, val_labels)\n",
    "            val_losses[epoch] +=valloss.item()\n",
    "\n",
    "    print(\"Epoch \"+str(epoch+1)+\": \\n Training Loss is: \"+str(running_loss))\n",
    "    print(\" Validation Loss is: \"+str(val_losses[epoch] ))\n",
    "    losses[epoch] = running_loss\n",
    "print('Finished Training')"
   ]
  },
  {
   "cell_type": "code",
   "execution_count": 26,
   "metadata": {},
   "outputs": [],
   "source": [
    "appl = transforms.RandomAffine(0,(0.95,0.3))"
   ]
  },
  {
   "cell_type": "code",
   "execution_count": 27,
   "metadata": {},
   "outputs": [],
   "source": [
    "out = appl(torch.from_numpy(X_train[6,:,:,:])).numpy()"
   ]
  },
  {
   "cell_type": "code",
   "execution_count": 30,
   "metadata": {},
   "outputs": [
    {
     "data": {
      "image/png": "[encoded data removed]",
      "text/plain": [
       "<Figure size 640x480 with 1 Axes>"
      ]
     },
     "metadata": {},
     "output_type": "display_data"
    }
   ],
   "source": [
    "plt.figure()\n",
    "plt.imshow(out[6,:,:],cmap=\"gray\")\n",
    "plt.show()"
   ]
  },
  {
   "cell_type": "code",
   "execution_count": null,
   "metadata": {},
   "outputs": [],
   "source": []
  }
 ],
 "metadata": {
  "kernelspec": {
   "display_name": "loopr_env",
   "language": "python",
   "name": "python3"
  },
  "language_info": {
   "codemirror_mode": {
    "name": "ipython",
    "version": 3
   },
   "file_extension": ".py",
   "mimetype": "text/x-python",
   "name": "python",
   "nbconvert_exporter": "python",
   "pygments_lexer": "ipython3",
   "version": "3.11.7"
  }
 },
 "nbformat": 4,
 "nbformat_minor": 2
}
