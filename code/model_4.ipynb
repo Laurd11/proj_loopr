{
 "cells": [
  {
   "cell_type": "code",
   "execution_count": null,
   "metadata": {},
   "outputs": [],
   "source": [
    "import numpy as np\n",
    "import cv2\n",
    "import matplotlib.pyplot as plt\n",
    "import torch\n",
    "from torch import nn\n",
    "import os\n",
    "# from torch.utils.data import DataLoader\n",
    "# from torchvision import datasets, transforms\n",
    "import torch.nn.functional as F\n",
    "import torch.optim as optim\n",
    "\n",
    "from torch.utils.data import TensorDataset, DataLoader, RandomSampler\n",
    "from sklearn.model_selection import train_test_split\n"
   ]
  },
  {
   "cell_type": "code",
   "execution_count": null,
   "metadata": {},
   "outputs": [],
   "source": [
    "class Net_result(nn.Module):\n",
    "    def __init__(self):\n",
    "        super().__init__() # 2 x 10 x 240\n",
    "        self.conv1 = nn.Conv2d(2, 6, (1,2),stride=(1,2)) # 6 x 10 x 120 \n",
    "        self.pool = nn.MaxPool2d(2) # 6 x 5 x 60\n",
    "        self.drop = nn.Dropout(p=0.15)\n",
    "        self.fc1 = nn.Linear( 1800, 360)   \n",
    "        self.fc2 = nn.Linear(360, 120)\n",
    "        self.fc3 = nn.Linear(120, 2)\n",
    "\n",
    "    def forward(self, x):\n",
    "        x = self.pool(F.relu(self.conv1(x)))\n",
    "        x = torch.flatten(x,1) \n",
    "        x = self.drop(x)\n",
    "        x = F.relu(self.fc1(x))\n",
    "        x = F.relu(self.fc2(x))\n",
    "        x = F.softmax(self.fc3(x), dim=1)\n",
    "        return x"
   ]
  }
 ],
 "metadata": {
  "language_info": {
   "name": "python"
  }
 },
 "nbformat": 4,
 "nbformat_minor": 2
}
