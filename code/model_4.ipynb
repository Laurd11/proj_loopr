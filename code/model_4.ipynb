{
 "cells": [
  {
   "cell_type": "code",
   "execution_count": 2,
   "metadata": {},
   "outputs": [],
   "source": [
    "import numpy as np\n",
    "import cv2\n",
    "import matplotlib.pyplot as plt\n",
    "import torch\n",
    "from torch import nn\n",
    "import os\n",
    "# from torch.utils.data import DataLoader\n",
    "# from torchvision import datasets, transforms\n",
    "import torch.nn.functional as F\n",
    "import torch.optim as optim\n",
    "\n",
    "from torch.utils.data import TensorDataset, DataLoader, RandomSampler\n",
    "from sklearn.model_selection import train_test_split\n"
   ]
  },
  {
   "cell_type": "markdown",
   "metadata": {},
   "source": [
    "### Binary Channels"
   ]
  },
  {
   "cell_type": "code",
   "execution_count": 2,
   "metadata": {},
   "outputs": [],
   "source": [
    "class Net_result(nn.Module):\n",
    "    def __init__(self):\n",
    "        super().__init__() # 2 x 10 x 240\n",
    "        self.conv1 = nn.Conv2d(2, 6, (1,2),stride=(1,2)) # 6 x 10 x 120 \n",
    "        self.pool = nn.MaxPool2d(2) # 6 x 5 x 60\n",
    "        self.drop = nn.Dropout(p=0.15)\n",
    "        self.fc1 = nn.Linear( 1800, 360)   \n",
    "        self.fc2 = nn.Linear(360, 120)\n",
    "        self.fc3 = nn.Linear(120, 2)\n",
    "\n",
    "    def forward(self, x):\n",
    "        x = self.pool(F.relu(self.conv1(x)))\n",
    "        x = torch.flatten(x,1) \n",
    "        x = self.drop(x)\n",
    "        x = F.relu(self.fc1(x))\n",
    "        x = F.relu(self.fc2(x))\n",
    "        x = F.softmax(self.fc3(x), dim=1)\n",
    "        return x"
   ]
  },
  {
   "cell_type": "code",
   "execution_count": 3,
   "metadata": {},
   "outputs": [],
   "source": [
    "def retrieve_images(fil_dir, shape=(7,40,500)):\n",
    "    sample_list = sorted(os.listdir(fil_dir))\n",
    "    img_list = np.zeros((len(sample_list),shape[0],shape[1],shape[2]))\n",
    "    ind = 0\n",
    "    for file_name in sample_list:\n",
    "        img_list[ind,:,:,:] = np.load(os.path.join(fil_dir,file_name))\n",
    "        ind+=1\n",
    "    return img_list[:ind,:,:,:]"
   ]
  },
  {
   "cell_type": "code",
   "execution_count": 4,
   "metadata": {},
   "outputs": [],
   "source": [
    "fil_dir = \"C:/Users/laure/Documents/proj_loopr/binary_window_results\"\n",
    "xs = retrieve_images(fil_dir, shape=(2,10,240))\n",
    "name_list = sorted(os.listdir(\"C:/Users/laure/Documents/proj_loopr/processed_images\"))\n",
    "ys = [1. if el[5:8]==\"000\" else 0. for el in name_list]\n",
    "ys = np.array(ys).reshape((-1,1))\n",
    "ys = np.hstack((ys, 1-ys))"
   ]
  },
  {
   "cell_type": "code",
   "execution_count": 5,
   "metadata": {},
   "outputs": [],
   "source": [
    "test_split = 0.2\n",
    "val_split=0.15\n",
    "X_train, X_test, y_train, y_test = train_test_split(xs, ys, test_size=test_split, random_state=81)\n",
    "X_train, X_val, y_train, y_val = train_test_split(X_train, y_train, test_size=val_split, random_state=81)\n"
   ]
  },
  {
   "cell_type": "code",
   "execution_count": 6,
   "metadata": {},
   "outputs": [],
   "source": [
    "model_out = Net_result()\n",
    "criterion  = nn.CrossEntropyLoss() \n",
    "learning_rate=5e-5\n",
    "optimizer = optim.Adam(model_out.parameters(), lr=learning_rate)\n",
    "\n",
    "train_dataset = TensorDataset(torch.from_numpy(X_train).type(torch.FloatTensor), torch.tensor(y_train))\n",
    "train_loader = DataLoader(train_dataset,batch_size=5,sampler = RandomSampler(train_dataset, replacement=False)) \n",
    "val_dataset = TensorDataset(torch.from_numpy(X_val).type(torch.FloatTensor), torch.tensor(y_val))\n",
    "val_loader = DataLoader(val_dataset, batch_size=5)"
   ]
  },
  {
   "cell_type": "code",
   "execution_count": 7,
   "metadata": {},
   "outputs": [
    {
     "name": "stdout",
     "output_type": "stream",
     "text": [
      "Epoch 1: \n",
      " Training Loss is: 23.588257122039796\n",
      " Validation Loss is: 4.034342515468597\n",
      "Epoch 2: \n",
      " Training Loss is: 23.368284726142885\n",
      " Validation Loss is: 4.018081331253052\n",
      "Epoch 3: \n",
      " Training Loss is: 23.449152982234953\n",
      " Validation Loss is: 3.9718614459037784\n",
      "Epoch 4: \n",
      " Training Loss is: 23.322553241252898\n",
      " Validation Loss is: 4.022188222408295\n",
      "Epoch 5: \n",
      " Training Loss is: 23.306614339351654\n",
      " Validation Loss is: 3.987990093231201\n",
      "Epoch 6: \n",
      " Training Loss is: 23.18450610637665\n",
      " Validation Loss is: 3.945081913471222\n",
      "Epoch 7: \n",
      " Training Loss is: 23.11651566028595\n",
      " Validation Loss is: 3.9387350440025326\n",
      "Epoch 8: \n",
      " Training Loss is: 22.95371251106262\n",
      " Validation Loss is: 3.9401798844337463\n",
      "Epoch 9: \n",
      " Training Loss is: 22.799201369285594\n",
      " Validation Loss is: 3.8921534180641175\n",
      "Epoch 10: \n",
      " Training Loss is: 22.784303778409956\n",
      " Validation Loss is: 3.9906812071800237\n",
      "Epoch 11: \n",
      " Training Loss is: 22.971805655956274\n",
      " Validation Loss is: 3.9357492089271546\n",
      "Epoch 12: \n",
      " Training Loss is: 22.65866929292679\n",
      " Validation Loss is: 3.8540509462356565\n",
      "Epoch 13: \n",
      " Training Loss is: 22.423167818784712\n",
      " Validation Loss is: 3.862828290462494\n",
      "Epoch 14: \n",
      " Training Loss is: 22.32873577475548\n",
      " Validation Loss is: 3.9486549377441404\n",
      "Epoch 15: \n",
      " Training Loss is: 22.505368101596833\n",
      " Validation Loss is: 3.9896216571331027\n",
      "Epoch 16: \n",
      " Training Loss is: 22.027429300546647\n",
      " Validation Loss is: 3.8070502638816834\n",
      "Epoch 17: \n",
      " Training Loss is: 22.036002177000043\n",
      " Validation Loss is: 3.7236307084560396\n",
      "Epoch 18: \n",
      " Training Loss is: 22.00447163581848\n",
      " Validation Loss is: 3.7027126371860506\n",
      "Epoch 19: \n",
      " Training Loss is: 21.50285493135452\n",
      " Validation Loss is: 3.6930754959583285\n",
      "Epoch 20: \n",
      " Training Loss is: 21.36806566119194\n",
      " Validation Loss is: 3.689164936542511\n",
      "Epoch 21: \n",
      " Training Loss is: 21.15949015021324\n",
      " Validation Loss is: 3.8951826870441435\n",
      "Epoch 22: \n",
      " Training Loss is: 20.97845917940139\n",
      " Validation Loss is: 3.6915274143218992\n",
      "Epoch 23: \n",
      " Training Loss is: 20.954616373777387\n",
      " Validation Loss is: 3.7968758285045623\n",
      "Epoch 24: \n",
      " Training Loss is: 20.625352889299386\n",
      " Validation Loss is: 4.011805701255798\n",
      "Epoch 25: \n",
      " Training Loss is: 20.7800355732441\n",
      " Validation Loss is: 3.561411702632904\n",
      "Epoch 26: \n",
      " Training Loss is: 20.532521325349812\n",
      " Validation Loss is: 3.6742501616477967\n",
      "Epoch 27: \n",
      " Training Loss is: 20.406521499156952\n",
      " Validation Loss is: 3.6557635128498074\n",
      "Epoch 28: \n",
      " Training Loss is: 19.926311802864074\n",
      " Validation Loss is: 3.6390043616294863\n",
      "Epoch 29: \n",
      " Training Loss is: 19.77683569788933\n",
      " Validation Loss is: 3.6538491725921634\n",
      "Epoch 30: \n",
      " Training Loss is: 20.215289938449864\n",
      " Validation Loss is: 3.5616319537162777\n",
      "Epoch 31: \n",
      " Training Loss is: 20.384771806001662\n",
      " Validation Loss is: 3.562570083141327\n",
      "Epoch 32: \n",
      " Training Loss is: 19.605741339921952\n",
      " Validation Loss is: 3.7738670766353613\n",
      "Epoch 33: \n",
      " Training Loss is: 19.136841070652007\n",
      " Validation Loss is: 3.8103220462799072\n",
      "Epoch 34: \n",
      " Training Loss is: 18.846528375148768\n",
      " Validation Loss is: 3.5506806075572968\n",
      "Epoch 35: \n",
      " Training Loss is: 18.955457806587216\n",
      " Validation Loss is: 3.6502020418643957\n",
      "Epoch 36: \n",
      " Training Loss is: 19.03388050794602\n",
      " Validation Loss is: 3.7105505764484406\n",
      "Epoch 37: \n",
      " Training Loss is: 19.090484952926627\n",
      " Validation Loss is: 3.874867463111877\n",
      "Epoch 38: \n",
      " Training Loss is: 18.255918985605238\n",
      " Validation Loss is: 3.7614162862300873\n",
      "Epoch 39: \n",
      " Training Loss is: 18.29545617103577\n",
      " Validation Loss is: 3.71513729095459\n",
      "Epoch 40: \n",
      " Training Loss is: 18.148287868499757\n",
      " Validation Loss is: 3.646025711297989\n",
      "Epoch 41: \n",
      " Training Loss is: 17.78006239533424\n",
      " Validation Loss is: 3.7886872768402102\n",
      "Epoch 42: \n",
      " Training Loss is: 18.16326720714569\n",
      " Validation Loss is: 3.604465901851654\n",
      "Epoch 43: \n",
      " Training Loss is: 17.24720462560654\n",
      " Validation Loss is: 4.1103795111179355\n",
      "Epoch 44: \n",
      " Training Loss is: 17.794470793008806\n",
      " Validation Loss is: 3.6746179282665254\n",
      "Epoch 45: \n",
      " Training Loss is: 17.199610668420796\n",
      " Validation Loss is: 3.5628263533115385\n",
      "Epoch 46: \n",
      " Training Loss is: 18.01077487468719\n",
      " Validation Loss is: 3.695518344640732\n",
      "Epoch 47: \n",
      " Training Loss is: 17.261267572641376\n",
      " Validation Loss is: 3.5552423357963563\n",
      "Epoch 48: \n",
      " Training Loss is: 17.665592920780185\n",
      " Validation Loss is: 3.594008058309555\n",
      "Epoch 49: \n",
      " Training Loss is: 16.557282000780106\n",
      " Validation Loss is: 3.5615227997303007\n",
      "Epoch 50: \n",
      " Training Loss is: 16.692485719919205\n",
      " Validation Loss is: 3.599218302965164\n",
      "Epoch 51: \n",
      " Training Loss is: 16.73139668703079\n",
      " Validation Loss is: 3.6067968666553494\n",
      "Epoch 52: \n",
      " Training Loss is: 16.96502469778061\n",
      " Validation Loss is: 3.6182732701301576\n",
      "Epoch 53: \n",
      " Training Loss is: 17.3212438583374\n",
      " Validation Loss is: 3.533342480659485\n",
      "Epoch 54: \n",
      " Training Loss is: 16.3577313542366\n",
      " Validation Loss is: 3.5296976506710047\n",
      "Epoch 55: \n",
      " Training Loss is: 16.341636568307873\n",
      " Validation Loss is: 3.5852358698844915\n",
      "Epoch 56: \n",
      " Training Loss is: 16.09729931354523\n",
      " Validation Loss is: 4.045840674638748\n",
      "Epoch 57: \n",
      " Training Loss is: 16.820556122064595\n",
      " Validation Loss is: 4.030014681816101\n",
      "Epoch 58: \n",
      " Training Loss is: 16.657366937398912\n",
      " Validation Loss is: 3.5841618537902837\n",
      "Epoch 59: \n",
      " Training Loss is: 16.331703531742097\n",
      " Validation Loss is: 3.8255898475646974\n",
      "Epoch 60: \n",
      " Training Loss is: 15.447185695171356\n",
      " Validation Loss is: 3.5480063617229467\n",
      "Finished Training\n"
     ]
    }
   ],
   "source": [
    "total_epochs = 60\n",
    "losses = np.zeros(total_epochs)\n",
    "val_losses = np.zeros(total_epochs)\n",
    "for epoch in range(total_epochs):  # loop over the dataset multiple times\n",
    "    model_out.train()\n",
    "    running_loss = 0.0\n",
    "\n",
    "    # rand_list = np.arange(mask_list.shape[0])\n",
    "    # np.random.shuffle(rand_list)\n",
    "\n",
    "    # new_img_list = img_list[rand_list,:,:]\n",
    "    # new_labels = labels[rand_list,:]\n",
    "    \n",
    "    for batch, (inputs, lab) in enumerate(train_loader):\n",
    "\n",
    "        optimizer.zero_grad()\n",
    "\n",
    "        # forward + backward + optimize\n",
    "        outputs = model_out(inputs)\n",
    "        loss = criterion(outputs, lab)\n",
    "        loss.backward()\n",
    "        optimizer.step()\n",
    "\n",
    "        # print statistics\n",
    "        running_loss += loss.item()\n",
    "        # if i % 2000 == 1999:    # print every 2000 mini-batches\n",
    "        #     print(f'[{epoch + 1}, {i + 1:5d}] loss: {running_loss / 2000:.3f}')\n",
    "        #     running_loss = 0.0 \n",
    "    \n",
    "    with torch.no_grad():\n",
    "        model_out.eval()\n",
    "        for batch, (val_inputs, val_labs) in enumerate(val_loader):#val_sample in test_loader:\n",
    "            val_outputs = model_out(val_inputs)\n",
    "            valloss = criterion(val_outputs, val_labs)\n",
    "            val_losses[epoch] +=valloss.item()\n",
    "\n",
    "    print(\"Epoch \"+str(epoch+1)+\": /n Training Loss is: \"+str(running_loss))\n",
    "    print(\" Validation Loss is: \"+str(val_losses[epoch] ))\n",
    "    losses[epoch] = running_loss\n",
    "print('Finished Training')"
   ]
  },
  {
   "cell_type": "code",
   "execution_count": 8,
   "metadata": {},
   "outputs": [
    {
     "data": {
      "image/png": "[encoded data removed]",
      "text/plain": [
       "<Figure size 640x480 with 1 Axes>"
      ]
     },
     "metadata": {},
     "output_type": "display_data"
    }
   ],
   "source": [
    "plt.figure()\n",
    "plt.plot(np.arange(total_epochs),losses)\n",
    "plt.plot(np.arange(total_epochs),val_losses)\n",
    "plt.show()"
   ]
  },
  {
   "cell_type": "code",
   "execution_count": 9,
   "metadata": {},
   "outputs": [
    {
     "data": {
      "text/plain": [
       "53"
      ]
     },
     "execution_count": 9,
     "metadata": {},
     "output_type": "execute_result"
    }
   ],
   "source": [
    "np.argmin(val_losses)"
   ]
  },
  {
   "cell_type": "code",
   "execution_count": 10,
   "metadata": {},
   "outputs": [],
   "source": [
    "test_dataset = TensorDataset(torch.from_numpy(X_test).type(torch.FloatTensor), torch.tensor(y_test))\n",
    "test_loader = DataLoader(test_dataset,batch_size=5) "
   ]
  },
  {
   "cell_type": "code",
   "execution_count": 11,
   "metadata": {},
   "outputs": [
    {
     "name": "stdout",
     "output_type": "stream",
     "text": [
      "Sensitivity: 0.47058823529411764\n",
      "Specificity: 0.90625\n"
     ]
    }
   ],
   "source": [
    "num_correct = 0\n",
    "true_neg = 0\n",
    "model_out.eval()\n",
    "with torch.no_grad():\n",
    "    for batch, (val_inputs, val_labs) in enumerate(test_loader):\n",
    "        val_outputs = model_out(val_inputs).detach().numpy()\n",
    "        val_outputs = (val_outputs[:,1]>val_outputs[:,0]).astype(int)\n",
    "        num_correct += np.sum(val_labs.numpy()[:,1].flatten() * val_outputs.flatten())\n",
    "        true_neg += np.sum(val_labs.numpy()[:,0].flatten() * (1-val_outputs.flatten()))\n",
    "            # num_correct+=np.argwhere([:,1] ==val_labs.numpy()[:,1]).flatten().shape[0]\n",
    "acc = num_correct / np.sum(y_test[:,1])\n",
    "tn_rate = true_neg / np.sum(y_test[:,0])\n",
    "print(\"Sensitivity: \"+str(acc))\n",
    "print(\"Specificity: \"+str(tn_rate))"
   ]
  },
  {
   "cell_type": "markdown",
   "metadata": {},
   "source": [
    "### 84 Channels"
   ]
  },
  {
   "cell_type": "code",
   "execution_count": 14,
   "metadata": {},
   "outputs": [],
   "source": [
    "class Net_result(nn.Module):\n",
    "    def __init__(self):\n",
    "        super().__init__() # 84 x 10 x 240\n",
    "        self.conv1 = nn.Conv2d(84, 32, (1,2),stride=(1,2)) # 32 x 10 x 120 \n",
    "        self.pool = nn.MaxPool2d(2) # 32 x 5 x 60\n",
    "        self.conv2 = nn.Conv2d(32, 16, 2,stride=(1,2)) # 16 x 4 x 30 \n",
    "        self.drop = nn.Dropout(p=0.15)\n",
    "        self.fc1 = nn.Linear( 1920, 360)   \n",
    "        self.fc2 = nn.Linear(360, 120)\n",
    "        self.fc3 = nn.Linear(120, 2)\n",
    "\n",
    "    def forward(self, x):\n",
    "        x = self.pool(F.relu(self.conv1(x)))\n",
    "        x = F.relu(self.conv2(x))\n",
    "        x = torch.flatten(x,1) \n",
    "        x = self.drop(x)\n",
    "        x = F.relu(self.fc1(x))\n",
    "        x = F.relu(self.fc2(x))\n",
    "        x = F.softmax(self.fc3(x), dim=1)\n",
    "        return x"
   ]
  },
  {
   "cell_type": "code",
   "execution_count": 15,
   "metadata": {},
   "outputs": [],
   "source": [
    "def retrieve_images(fil_dir, shape=(7,40,500)):\n",
    "    sample_list = sorted(os.listdir(fil_dir))\n",
    "    img_list = np.zeros((len(sample_list),shape[0],shape[1],shape[2]))\n",
    "    ind = 0\n",
    "    for file_name in sample_list:\n",
    "        img_list[ind,:,:,:] = np.load(os.path.join(fil_dir,file_name))\n",
    "        ind+=1\n",
    "    return img_list[:ind,:,:,:]"
   ]
  },
  {
   "cell_type": "code",
   "execution_count": 16,
   "metadata": {},
   "outputs": [],
   "source": [
    "fil_dir = \"C:/Users/laure/Documents/proj_loopr/channeled_window_results\"\n",
    "xs = retrieve_images(fil_dir, shape=(84,10,240))\n",
    "name_list = sorted(os.listdir(\"C:/Users/laure/Documents/proj_loopr/processed_images\"))\n",
    "ys = [1. if el[5:8]==\"000\" else 0. for el in name_list]\n",
    "ys = np.array(ys).reshape((-1,1))\n",
    "ys = np.hstack((ys, 1-ys))"
   ]
  },
  {
   "cell_type": "code",
   "execution_count": 17,
   "metadata": {},
   "outputs": [],
   "source": [
    "test_split = 0.2\n",
    "val_split=0.15\n",
    "X_train, X_test, y_train, y_test = train_test_split(xs, ys, test_size=test_split, random_state=81)\n",
    "X_train, X_val, y_train, y_val = train_test_split(X_train, y_train, test_size=val_split, random_state=81)\n"
   ]
  },
  {
   "cell_type": "code",
   "execution_count": 18,
   "metadata": {},
   "outputs": [],
   "source": [
    "model_out = Net_result()\n",
    "criterion  = nn.CrossEntropyLoss() \n",
    "learning_rate=5e-5\n",
    "optimizer = optim.Adam(model_out.parameters(), lr=learning_rate)\n",
    "\n",
    "train_dataset = TensorDataset(torch.from_numpy(X_train).type(torch.FloatTensor), torch.tensor(y_train))\n",
    "train_loader = DataLoader(train_dataset,batch_size=5,sampler = RandomSampler(train_dataset, replacement=False)) \n",
    "val_dataset = TensorDataset(torch.from_numpy(X_val).type(torch.FloatTensor), torch.tensor(y_val))\n",
    "val_loader = DataLoader(val_dataset, batch_size=5)"
   ]
  },
  {
   "cell_type": "code",
   "execution_count": 19,
   "metadata": {},
   "outputs": [
    {
     "name": "stdout",
     "output_type": "stream",
     "text": [
      "Epoch 1: /n Training Loss is: 23.23914813399315\n",
      " Validation Loss is: 3.7519404947757717\n",
      "Epoch 2: /n Training Loss is: 21.166128897666933\n",
      " Validation Loss is: 3.4903283774852754\n",
      "Epoch 3: /n Training Loss is: 19.89385886788368\n",
      " Validation Loss is: 3.3081190407276155\n",
      "Epoch 4: /n Training Loss is: 18.466614210605623\n",
      " Validation Loss is: 3.1517458617687226\n",
      "Epoch 5: /n Training Loss is: 17.951201117038725\n",
      " Validation Loss is: 3.0488849401473996\n",
      "Epoch 6: /n Training Loss is: 16.890938675403596\n",
      " Validation Loss is: 2.9572150290012362\n",
      "Epoch 7: /n Training Loss is: 16.443524795770646\n",
      " Validation Loss is: 2.8434070587158202\n",
      "Epoch 8: /n Training Loss is: 16.30530675053597\n",
      " Validation Loss is: 2.8594609141349796\n",
      "Epoch 9: /n Training Loss is: 15.777585625648497\n",
      " Validation Loss is: 2.7884582817554473\n",
      "Epoch 10: /n Training Loss is: 15.111844134330752\n",
      " Validation Loss is: 2.6853648483753205\n",
      "Epoch 11: /n Training Loss is: 14.971563577651983\n",
      " Validation Loss is: 2.643307441473007\n",
      "Epoch 12: /n Training Loss is: 14.69475036263466\n",
      " Validation Loss is: 2.5739338278770445\n",
      "Epoch 13: /n Training Loss is: 14.543609279394149\n",
      " Validation Loss is: 2.5578141450881957\n",
      "Epoch 14: /n Training Loss is: 14.200135087966917\n",
      " Validation Loss is: 2.664098030328751\n",
      "Epoch 15: /n Training Loss is: 13.985720491409305\n",
      " Validation Loss is: 2.4728220283985136\n",
      "Epoch 16: /n Training Loss is: 13.910526597499848\n",
      " Validation Loss is: 2.4756864607334137\n",
      "Epoch 17: /n Training Loss is: 13.774462944269178\n",
      " Validation Loss is: 2.6087001740932467\n",
      "Epoch 18: /n Training Loss is: 13.832249855995173\n",
      " Validation Loss is: 2.509134471416473\n",
      "Epoch 19: /n Training Loss is: 13.566534358263018\n",
      " Validation Loss is: 2.6066893458366396\n",
      "Epoch 20: /n Training Loss is: 14.29994199872017\n",
      " Validation Loss is: 2.495298606157303\n",
      "Epoch 21: /n Training Loss is: 13.388148552179342\n",
      " Validation Loss is: 2.4651139080524445\n",
      "Epoch 22: /n Training Loss is: 13.615981519222258\n",
      " Validation Loss is: 2.349029237031937\n",
      "Epoch 23: /n Training Loss is: 13.213779222965238\n",
      " Validation Loss is: 2.41004576086998\n",
      "Epoch 24: /n Training Loss is: 13.000280594825742\n",
      " Validation Loss is: 2.4349241971969606\n",
      "Epoch 25: /n Training Loss is: 13.062155157327652\n",
      " Validation Loss is: 2.4303894460201265\n",
      "Epoch 26: /n Training Loss is: 12.806486558914186\n",
      " Validation Loss is: 2.350197559595108\n",
      "Epoch 27: /n Training Loss is: 12.92648735046387\n",
      " Validation Loss is: 2.4579085767269135\n",
      "Epoch 28: /n Training Loss is: 12.814360803365707\n",
      " Validation Loss is: 2.4512475073337554\n",
      "Epoch 29: /n Training Loss is: 12.860108107328415\n",
      " Validation Loss is: 2.4389083325862884\n",
      "Epoch 30: /n Training Loss is: 13.416476017236711\n",
      " Validation Loss is: 2.399902492761612\n",
      "Epoch 31: /n Training Loss is: 13.087492382526397\n",
      " Validation Loss is: 2.494274938106537\n",
      "Epoch 32: /n Training Loss is: 12.858893406391145\n",
      " Validation Loss is: 2.5899840474128726\n",
      "Epoch 33: /n Training Loss is: 12.720795685052872\n",
      " Validation Loss is: 2.4761161744594578\n",
      "Epoch 34: /n Training Loss is: 12.533408427238463\n",
      " Validation Loss is: 2.37785262465477\n",
      "Epoch 35: /n Training Loss is: 12.372775000333785\n",
      " Validation Loss is: 2.4656107783317567\n",
      "Epoch 36: /n Training Loss is: 12.734982532262801\n",
      " Validation Loss is: 2.408603054285049\n",
      "Epoch 37: /n Training Loss is: 12.72204196453095\n",
      " Validation Loss is: 2.3807209372520446\n",
      "Epoch 38: /n Training Loss is: 12.300890809297563\n",
      " Validation Loss is: 2.3556285321712496\n",
      "Epoch 39: /n Training Loss is: 12.443997216224671\n",
      " Validation Loss is: 2.464054334163666\n",
      "Epoch 40: /n Training Loss is: 12.124572509527205\n",
      " Validation Loss is: 2.35257151722908\n",
      "Epoch 41: /n Training Loss is: 12.36518639922142\n",
      " Validation Loss is: 2.3276298224925993\n",
      "Epoch 42: /n Training Loss is: 12.183198690414429\n",
      " Validation Loss is: 2.4233923256397247\n",
      "Epoch 43: /n Training Loss is: 12.006238484382626\n",
      " Validation Loss is: 2.356845325231552\n",
      "Epoch 44: /n Training Loss is: 12.105210500955582\n",
      " Validation Loss is: 2.3792828023433685\n",
      "Epoch 45: /n Training Loss is: 12.10190242528916\n",
      " Validation Loss is: 2.3881110668182375\n",
      "Finished Training\n"
     ]
    }
   ],
   "source": [
    "total_epochs = 50\n",
    "losses = np.zeros(total_epochs)\n",
    "val_losses = np.zeros(total_epochs)\n",
    "for epoch in range(total_epochs):  # loop over the dataset multiple times\n",
    "    model_out.train()\n",
    "    running_loss = 0.0\n",
    "\n",
    "    # rand_list = np.arange(mask_list.shape[0])\n",
    "    # np.random.shuffle(rand_list)\n",
    "\n",
    "    # new_img_list = img_list[rand_list,:,:]\n",
    "    # new_labels = labels[rand_list,:]\n",
    "    \n",
    "    for batch, (inputs, lab) in enumerate(train_loader):\n",
    "\n",
    "        optimizer.zero_grad()\n",
    "\n",
    "        # forward + backward + optimize\n",
    "        outputs = model_out(inputs)\n",
    "        loss = criterion(outputs, lab)\n",
    "        loss.backward()\n",
    "        optimizer.step()\n",
    "\n",
    "        # print statistics\n",
    "        running_loss += loss.item()\n",
    "        # if i % 2000 == 1999:    # print every 2000 mini-batches\n",
    "        #     print(f'[{epoch + 1}, {i + 1:5d}] loss: {running_loss / 2000:.3f}')\n",
    "        #     running_loss = 0.0 \n",
    "    \n",
    "    with torch.no_grad():\n",
    "        model_out.eval()\n",
    "        for batch, (val_inputs, val_labs) in enumerate(val_loader):#val_sample in test_loader:\n",
    "            val_outputs = model_out(val_inputs)\n",
    "            valloss = criterion(val_outputs, val_labs)\n",
    "            val_losses[epoch] +=valloss.item()\n",
    "\n",
    "    print(\"Epoch \"+str(epoch+1)+\": /n Training Loss is: \"+str(running_loss))\n",
    "    print(\" Validation Loss is: \"+str(val_losses[epoch] ))\n",
    "    losses[epoch] = running_loss\n",
    "print('Finished Training')"
   ]
  },
  {
   "cell_type": "code",
   "execution_count": 20,
   "metadata": {},
   "outputs": [
    {
     "data": {
      "image/png": "[encoded data removed]",
      "text/plain": [
       "<Figure size 640x480 with 1 Axes>"
      ]
     },
     "metadata": {},
     "output_type": "display_data"
    }
   ],
   "source": [
    "plt.figure()\n",
    "plt.plot(np.arange(total_epochs),losses)\n",
    "plt.plot(np.arange(total_epochs),val_losses)\n",
    "plt.show()"
   ]
  },
  {
   "cell_type": "code",
   "execution_count": 21,
   "metadata": {},
   "outputs": [
    {
     "data": {
      "text/plain": [
       "40"
      ]
     },
     "execution_count": 21,
     "metadata": {},
     "output_type": "execute_result"
    }
   ],
   "source": [
    "np.argmin(val_losses)"
   ]
  },
  {
   "cell_type": "code",
   "execution_count": 22,
   "metadata": {},
   "outputs": [],
   "source": [
    "test_dataset = TensorDataset(torch.from_numpy(X_test).type(torch.FloatTensor), torch.tensor(y_test))\n",
    "test_loader = DataLoader(test_dataset,batch_size=5) "
   ]
  },
  {
   "cell_type": "code",
   "execution_count": 23,
   "metadata": {},
   "outputs": [
    {
     "name": "stdout",
     "output_type": "stream",
     "text": [
      "Sensitivity: 0.7058823529411765\n",
      "Specificity: 0.78125\n"
     ]
    }
   ],
   "source": [
    "num_correct = 0\n",
    "true_neg = 0\n",
    "model_out.eval()\n",
    "with torch.no_grad():\n",
    "    for batch, (val_inputs, val_labs) in enumerate(test_loader):\n",
    "        val_outputs = model_out(val_inputs).detach().numpy()\n",
    "        val_outputs = (val_outputs[:,1]>val_outputs[:,0]).astype(int)\n",
    "        num_correct += np.sum(val_labs.numpy()[:,1].flatten() * val_outputs.flatten())\n",
    "        true_neg += np.sum(val_labs.numpy()[:,0].flatten() * (1-val_outputs.flatten()))\n",
    "            # num_correct+=np.argwhere([:,1] ==val_labs.numpy()[:,1]).flatten().shape[0]\n",
    "acc = num_correct / np.sum(y_test[:,1])\n",
    "tn_rate = true_neg / np.sum(y_test[:,0])\n",
    "print(\"Sensitivity: \"+str(acc))\n",
    "print(\"Specificity: \"+str(tn_rate))"
   ]
  },
  {
   "cell_type": "code",
   "execution_count": null,
   "metadata": {},
   "outputs": [],
   "source": []
  }
 ],
 "metadata": {
  "kernelspec": {
   "display_name": "loopr_env",
   "language": "python",
   "name": "python3"
  },
  "language_info": {
   "codemirror_mode": {
    "name": "ipython",
    "version": 3
   },
   "file_extension": ".py",
   "mimetype": "text/x-python",
   "name": "python",
   "nbconvert_exporter": "python",
   "pygments_lexer": "ipython3",
   "version": "3.11.7"
  }
 },
 "nbformat": 4,
 "nbformat_minor": 2
}
