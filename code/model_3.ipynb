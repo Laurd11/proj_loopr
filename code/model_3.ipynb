{
 "cells": [
  {
   "cell_type": "code",
   "execution_count": 6,
   "metadata": {},
   "outputs": [],
   "source": [
    "import numpy as np\n",
    "import cv2\n",
    "import matplotlib.pyplot as plt\n",
    "import torch\n",
    "from torch import nn\n",
    "import os\n",
    "# from torch.utils.data import DataLoader\n",
    "# from torchvision import datasets, transforms\n",
    "import torch.nn.functional as F\n",
    "import torch.optim as optim\n",
    "from torch.utils.data import TensorDataset, DataLoader, RandomSampler\n",
    "from sklearn.model_selection import train_test_split\n"
   ]
  },
  {
   "cell_type": "markdown",
   "metadata": {},
   "source": [
    "### Retrieve and Prepare Data"
   ]
  },
  {
   "cell_type": "code",
   "execution_count": 7,
   "metadata": {},
   "outputs": [],
   "source": [
    "source_dir = \"C:/Users/laure/Documents/proj_loopr/processed_images\"\n",
    "mask_dir = \"C:/Users/laure/Documents/proj_loopr/all_masks\"\n",
    "\n",
    "def retrieve_images(fil_dir):\n",
    "    sample_list = os.listdir(fil_dir)\n",
    "    img_list = np.zeros((len(sample_list),7,40,500))\n",
    "    ind = 0\n",
    "    for file_name in sample_list:\n",
    "        img_list[ind,:,:,:] = np.load(os.path.join(fil_dir,file_name))\n",
    "        ind+=1\n",
    "    return img_list\n",
    "\n",
    "def retrieve_masks(fil_dir):\n",
    "    sample_list = os.listdir(fil_dir)\n",
    "    img_list = np.zeros((len(sample_list),40,500))\n",
    "    ind = 0\n",
    "    for file_name in sample_list:\n",
    "        img_list[ind,:,:] = np.load(os.path.join(fil_dir,file_name))\n",
    "        ind+=1\n",
    "    return img_list.reshape(-1,1,40,500)\n",
    "\n",
    "xs = retrieve_images(source_dir)\n",
    "masks = retrieve_masks(mask_dir)"
   ]
  },
  {
   "cell_type": "code",
   "execution_count": 8,
   "metadata": {},
   "outputs": [
    {
     "data": {
      "text/plain": [
       "(246, 1, 40, 500)"
      ]
     },
     "execution_count": 8,
     "metadata": {},
     "output_type": "execute_result"
    }
   ],
   "source": [
    "masks.shape"
   ]
  },
  {
   "cell_type": "code",
   "execution_count": 9,
   "metadata": {},
   "outputs": [],
   "source": [
    "def sliding_window(image, sq_size = 22, pix_steps=2):\n",
    "    img_list = []\n",
    "    for i in np.arange(0,image.shape[1]-sq_size+pix_steps,pix_steps):\n",
    "        for j in np.arange(0,image.shape[2]-sq_size+pix_steps,pix_steps):\n",
    "            img_list.append(image[:,i:i+sq_size,j:j+sq_size])\n",
    "    return np.array(img_list)"
   ]
  },
  {
   "cell_type": "code",
   "execution_count": 10,
   "metadata": {},
   "outputs": [],
   "source": [
    "X_train, X_test, y_train, y_test = train_test_split(xs, masks, test_size=0.75, random_state=81)\n",
    "X_train, X_val, y_train, y_val = train_test_split(X_train, y_train, test_size=0.2, random_state=81)\n"
   ]
  },
  {
   "cell_type": "code",
   "execution_count": 11,
   "metadata": {},
   "outputs": [],
   "source": [
    "\n",
    "def get_windowed_data(imgs, masks):\n",
    "    windows_per_im = 10*240\n",
    "    fin_data = np.zeros((imgs.shape[0]*windows_per_im,7,22,22))\n",
    "    fin_labs = np.zeros((imgs.shape[0]*windows_per_im,1))\n",
    "    for ind in range(imgs.shape[0]):\n",
    "        fin_data[ind*windows_per_im:(ind+1)*windows_per_im,:,:,:] = sliding_window(imgs[ind,:,:,:])\n",
    "        mask_windows = sliding_window(masks[ind,:,:,:])\n",
    "        for el in range(mask_windows.shape[0]):\n",
    "            if np.amax(mask_windows[el])>0:\n",
    "                fin_labs[ind*windows_per_im+el]=1\n",
    "    return fin_data, fin_labs\n",
    "        \n"
   ]
  },
  {
   "cell_type": "code",
   "execution_count": 12,
   "metadata": {},
   "outputs": [],
   "source": [
    "X_train, y_train = get_windowed_data(X_train, y_train)"
   ]
  },
  {
   "cell_type": "code",
   "execution_count": 13,
   "metadata": {},
   "outputs": [],
   "source": [
    "from imblearn.over_sampling import SMOTE\n",
    "\n",
    "smote = SMOTE(random_state=81)\n",
    "X_train, y_train = smote.fit_resample(X_train.reshape(-1, 22*22*7), y_train)\n",
    "\n",
    "X_train = X_train.reshape(-1, 7, 22, 22)\n"
   ]
  },
  {
   "cell_type": "code",
   "execution_count": 14,
   "metadata": {},
   "outputs": [
    {
     "name": "stdout",
     "output_type": "stream",
     "text": [
      "111110.0\n",
      "(222220,)\n"
     ]
    }
   ],
   "source": [
    "print(np.sum(y_train))\n",
    "print(y_train.shape)"
   ]
  },
  {
   "cell_type": "code",
   "execution_count": 15,
   "metadata": {},
   "outputs": [],
   "source": [
    "X_val, y_val = get_windowed_data(X_val, y_val)"
   ]
  },
  {
   "cell_type": "code",
   "execution_count": 29,
   "metadata": {},
   "outputs": [],
   "source": [
    "labels = np.zeros((y_train.shape[0],2))\n",
    "labels[:,1] = y_train.flatten()\n",
    "labels[np.argwhere(y_train==0).flatten(),0] = 1\n",
    "val_labels = np.zeros((y_val.shape[0],2))\n",
    "val_labels[:,1] = y_val.flatten()\n",
    "val_labels[np.argwhere(y_val==0).flatten(),0] = 1"
   ]
  },
  {
   "cell_type": "code",
   "execution_count": 17,
   "metadata": {},
   "outputs": [
    {
     "data": {
      "text/plain": [
       "111110.0"
      ]
     },
     "execution_count": 17,
     "metadata": {},
     "output_type": "execute_result"
    }
   ],
   "source": [
    "np.sum(y_train)"
   ]
  },
  {
   "cell_type": "markdown",
   "metadata": {},
   "source": [
    "### Create Network and Construct Training Mechanisms"
   ]
  },
  {
   "cell_type": "code",
   "execution_count": 31,
   "metadata": {},
   "outputs": [],
   "source": [
    "class Net(nn.Module):\n",
    "    def __init__(self):\n",
    "        super().__init__() # 7 x 22 x 22\n",
    "        self.conv1 = nn.Conv2d(7, 16, 4,stride=2) # 16 x 10 x 10\n",
    "        self.pool = nn.MaxPool2d(2,stride=1) # 16 x 9 x 9\n",
    "        self.conv2 = nn.Conv2d(16, 32, 3,stride=2) # 32 x 4 x 4\n",
    "        self.fc1 = nn.Linear( 512, 120)   \n",
    "        self.fc2 = nn.Linear(120, 84)\n",
    "        self.fc3 = nn.Linear(84, 2)\n",
    "\n",
    "    def forward(self, x):\n",
    "        x = self.pool(F.relu(self.conv1(x)))\n",
    "        x = F.relu(self.conv2(x))\n",
    "        x = torch.flatten(x,1) \n",
    "        x = F.relu(self.fc1(x))\n",
    "        x = F.relu(self.fc2(x))\n",
    "        x = F.softmax(self.fc3(x), dim=1)\n",
    "        return x\n",
    "\n",
    "\n",
    "net = Net()"
   ]
  },
  {
   "cell_type": "code",
   "execution_count": 19,
   "metadata": {},
   "outputs": [],
   "source": [
    "# class DiceLoss(nn.Module):\n",
    "#     def __init__(self):\n",
    "#         super(DiceLoss, self).__init__()\n",
    "\n",
    "#     def forward(self, dats,labs):\n",
    "#         eps = 10**(-5)\n",
    "#         fin = torch.sum(dats[:,1]*labs[:,1])\n",
    "#         div = torch.sum(dats[:,1]) +torch.sum(labs[:,1])\n",
    "#         return 1 - ((2*fin+eps)/(div+eps))\n",
    "    \n",
    "criterion  = nn.CrossEntropyLoss() #DiceLoss()\n",
    "optimizer = optim.Adam(net.parameters(), lr=5e-5)"
   ]
  },
  {
   "cell_type": "code",
   "execution_count": 20,
   "metadata": {},
   "outputs": [
    {
     "data": {
      "text/plain": [
       "(222220,)"
      ]
     },
     "execution_count": 20,
     "metadata": {},
     "output_type": "execute_result"
    }
   ],
   "source": [
    "y_train.shape"
   ]
  },
  {
   "cell_type": "code",
   "execution_count": 21,
   "metadata": {},
   "outputs": [
    {
     "data": {
      "text/plain": [
       "(31200, 7, 22, 22)"
      ]
     },
     "execution_count": 21,
     "metadata": {},
     "output_type": "execute_result"
    }
   ],
   "source": [
    "X_val.shape"
   ]
  },
  {
   "cell_type": "code",
   "execution_count": 32,
   "metadata": {},
   "outputs": [],
   "source": [
    "train_dataset = TensorDataset(torch.from_numpy(X_train).type(torch.FloatTensor), torch.tensor(labels))\n",
    "train_loader = DataLoader(train_dataset,batch_size=50,sampler = RandomSampler(train_dataset, replacement=False, num_samples=60000)) \n",
    "val_dataset = TensorDataset(torch.from_numpy(X_val).type(torch.FloatTensor), torch.tensor(val_labels))\n",
    "val_loader = DataLoader(val_dataset, batch_size=50)#,sampler = RandomSampler(train_dataset, replacement=False, num_samples=30000))  "
   ]
  },
  {
   "cell_type": "code",
   "execution_count": 33,
   "metadata": {},
   "outputs": [],
   "source": [
    "total_epochs = 60\n",
    "losses = np.zeros(total_epochs)\n",
    "val_losses = np.zeros(total_epochs)\n",
    "for epoch in range(total_epochs):  # loop over the dataset multiple times\n",
    "\n",
    "    running_loss = 0.0\n",
    "\n",
    "    # rand_list = np.arange(mask_list.shape[0])\n",
    "    # np.random.shuffle(rand_list)\n",
    "\n",
    "    # new_img_list = img_list[rand_list,:,:]\n",
    "    # new_labels = labels[rand_list,:]\n",
    "    \n",
    "    for batch, (inputs, lab) in enumerate(train_loader):\n",
    "\n",
    "        optimizer.zero_grad()\n",
    "\n",
    "        # forward + backward + optimize\n",
    "        outputs = net(inputs)\n",
    "        loss = criterion(outputs, lab)\n",
    "        loss.backward()\n",
    "        optimizer.step()\n",
    "\n",
    "        # print statistics\n",
    "        running_loss += loss.item()\n",
    "        # if i % 2000 == 1999:    # print every 2000 mini-batches\n",
    "        #     print(f'[{epoch + 1}, {i + 1:5d}] loss: {running_loss / 2000:.3f}')\n",
    "        #     running_loss = 0.0 \n",
    "    \n",
    "    with torch.no_grad():\n",
    "        for batch, (val_inputs, val_labs) in enumerate(val_loader):#val_sample in test_loader:\n",
    "            val_outputs = net(val_inputs)\n",
    "            valloss = criterion(val_outputs, val_labs)\n",
    "            val_losses[epoch] +=valloss.item()\n",
    "\n",
    "    print(\"Epoch \"+str(epoch+1)+\": \\n Training Loss is: \"+str(running_loss))\n",
    "    print(\" Validation Loss is: \"+str(val_losses[epoch] ))\n",
    "    losses[epoch] = running_loss\n",
    "print('Finished Training')"
   ]
  },
  {
   "cell_type": "code",
   "execution_count": null,
   "metadata": {},
   "outputs": [
    {
     "data": {
      "image/png": "[encoded data removed]",
      "text/plain": [
       "<Figure size 1000x1000 with 1 Axes>"
      ]
     },
     "metadata": {},
     "output_type": "display_data"
    }
   ],
   "source": [
    "plt.figure(figsize=(10,10))\n",
    "plt.plot(np.arange(total_epochs),losses, label=\"train\")\n",
    "plt.plot(np.arange(total_epochs),val_losses, label=\"validation\")\n",
    "plt.legend()\n",
    "plt.show()"
   ]
  },
  {
   "cell_type": "code",
   "execution_count": null,
   "metadata": {},
   "outputs": [],
   "source": []
  }
 ],
 "metadata": {
  "kernelspec": {
   "display_name": "loopr_env",
   "language": "python",
   "name": "python3"
  },
  "language_info": {
   "codemirror_mode": {
    "name": "ipython",
    "version": 3
   },
   "file_extension": ".py",
   "mimetype": "text/x-python",
   "name": "python",
   "nbconvert_exporter": "python",
   "pygments_lexer": "ipython3",
   "version": "3.11.7"
  }
 },
 "nbformat": 4,
 "nbformat_minor": 2
}
