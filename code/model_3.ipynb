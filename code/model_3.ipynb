{
 "cells": [
  {
   "cell_type": "code",
   "execution_count": 1,
   "metadata": {},
   "outputs": [],
   "source": [
    "import numpy as np\n",
    "import cv2\n",
    "import matplotlib.pyplot as plt\n",
    "import torch\n",
    "from torch import nn\n",
    "import os\n",
    "# from torch.utils.data import DataLoader\n",
    "# from torchvision import datasets, transforms\n",
    "import torch.nn.functional as F\n",
    "import torch.optim as optim\n",
    "from torch.utils.data import TensorDataset, DataLoader, RandomSampler\n",
    "from sklearn.model_selection import train_test_split\n"
   ]
  },
  {
   "cell_type": "markdown",
   "metadata": {},
   "source": [
    "### Retrieve and Prepare Data"
   ]
  },
  {
   "cell_type": "code",
   "execution_count": 2,
   "metadata": {},
   "outputs": [],
   "source": [
    "source_dir = \"C:/Users/laure/Documents/proj_loopr/processed_images\"\n",
    "mask_dir = \"C:/Users/laure/Documents/proj_loopr/all_masks\"\n",
    "\n",
    "def retrieve_images(fil_dir):\n",
    "    sample_list = os.listdir(fil_dir)\n",
    "    img_list = np.zeros((len(sample_list),7,40,500))\n",
    "    ind = 0\n",
    "    for file_name in sample_list:\n",
    "        img_list[ind,:,:,:] = np.load(os.path.join(fil_dir,file_name))\n",
    "        ind+=1\n",
    "    return img_list\n",
    "\n",
    "def retrieve_masks(fil_dir):\n",
    "    sample_list = os.listdir(fil_dir)\n",
    "    img_list = np.zeros((len(sample_list),40,500))\n",
    "    ind = 0\n",
    "    for file_name in sample_list:\n",
    "        img_list[ind,:,:] = np.load(os.path.join(fil_dir,file_name))\n",
    "        ind+=1\n",
    "    return img_list.reshape(-1,1,40,500)\n",
    "\n",
    "xs = retrieve_images(source_dir)\n",
    "masks = retrieve_masks(mask_dir)"
   ]
  },
  {
   "cell_type": "code",
   "execution_count": 3,
   "metadata": {},
   "outputs": [
    {
     "data": {
      "text/plain": [
       "(246, 1, 40, 500)"
      ]
     },
     "execution_count": 3,
     "metadata": {},
     "output_type": "execute_result"
    }
   ],
   "source": [
    "masks.shape"
   ]
  },
  {
   "cell_type": "code",
   "execution_count": 4,
   "metadata": {},
   "outputs": [],
   "source": [
    "def sliding_window(image, sq_size = 22, pix_steps=2):\n",
    "    img_list = []\n",
    "    for i in np.arange(0,image.shape[1]-sq_size+pix_steps,pix_steps):\n",
    "        for j in np.arange(0,image.shape[2]-sq_size+pix_steps,pix_steps):\n",
    "            img_list.append(image[:,i:i+sq_size,j:j+sq_size])\n",
    "    return np.array(img_list)"
   ]
  },
  {
   "cell_type": "code",
   "execution_count": 5,
   "metadata": {},
   "outputs": [],
   "source": [
    "X_train, X_test, y_train, y_test = train_test_split(xs, masks, test_size=0.8, random_state=81)\n",
    "X_train, X_val, y_train, y_val = train_test_split(X_train, y_train, test_size=0.2, random_state=81)\n"
   ]
  },
  {
   "cell_type": "code",
   "execution_count": 6,
   "metadata": {},
   "outputs": [],
   "source": [
    "\n",
    "def get_windowed_data(imgs, masks):\n",
    "    windows_per_im = 10*240\n",
    "    fin_data = np.zeros((imgs.shape[0]*windows_per_im,7,22,22))\n",
    "    fin_labs = np.zeros((imgs.shape[0]*windows_per_im,1))\n",
    "    for ind in range(imgs.shape[0]):\n",
    "        fin_data[ind*windows_per_im:(ind+1)*windows_per_im,:,:,:] = sliding_window(imgs[ind,:,:,:])\n",
    "        mask_windows = sliding_window(masks[ind,:,:,:])\n",
    "        for el in range(mask_windows.shape[0]):\n",
    "            if np.amax(mask_windows[el])>0:\n",
    "                fin_labs[ind*windows_per_im+el]=1\n",
    "    return fin_data, fin_labs\n",
    "        \n"
   ]
  },
  {
   "cell_type": "code",
   "execution_count": 7,
   "metadata": {},
   "outputs": [],
   "source": [
    "X_train, y_train = get_windowed_data(X_train, y_train)"
   ]
  },
  {
   "cell_type": "code",
   "execution_count": 8,
   "metadata": {},
   "outputs": [],
   "source": [
    "from imblearn.over_sampling import SMOTE\n",
    "\n",
    "smote = SMOTE(random_state=81)\n",
    "X_train, y_train = smote.fit_resample(X_train.reshape(-1, 22*22*7), y_train)\n",
    "\n",
    "X_train = X_train.reshape(-1, 7, 22, 22)\n"
   ]
  },
  {
   "cell_type": "code",
   "execution_count": 9,
   "metadata": {},
   "outputs": [
    {
     "name": "stdout",
     "output_type": "stream",
     "text": [
      "90375.0\n",
      "(180750,)\n"
     ]
    }
   ],
   "source": [
    "print(np.sum(y_train))\n",
    "print(y_train.shape)"
   ]
  },
  {
   "cell_type": "code",
   "execution_count": 10,
   "metadata": {},
   "outputs": [],
   "source": [
    "X_val, y_val = get_windowed_data(X_val, y_val)"
   ]
  },
  {
   "cell_type": "code",
   "execution_count": 11,
   "metadata": {},
   "outputs": [],
   "source": [
    "labels = np.zeros((y_train.shape[0],2))\n",
    "labels[:,1] = y_train.flatten()\n",
    "labels[np.argwhere(y_train==0).flatten(),0] = 1\n",
    "val_labels = np.zeros((y_val.shape[0],2))\n",
    "val_labels[:,1] = y_val.flatten()\n",
    "val_labels[np.argwhere(y_val==0).flatten(),0] = 1"
   ]
  },
  {
   "cell_type": "code",
   "execution_count": 12,
   "metadata": {},
   "outputs": [
    {
     "data": {
      "text/plain": [
       "90375.0"
      ]
     },
     "execution_count": 12,
     "metadata": {},
     "output_type": "execute_result"
    }
   ],
   "source": [
    "np.sum(y_train)"
   ]
  },
  {
   "cell_type": "markdown",
   "metadata": {},
   "source": [
    "### Create Network and Construct Training Mechanisms"
   ]
  },
  {
   "cell_type": "code",
   "execution_count": 13,
   "metadata": {},
   "outputs": [],
   "source": [
    "class Net(nn.Module):\n",
    "    def __init__(self):\n",
    "        super().__init__() # 7 x 22 x 22\n",
    "        self.conv1 = nn.Conv2d(7, 16, 4,stride=2) # 16 x 10 x 10\n",
    "        self.pool = nn.MaxPool2d(2,stride=1) # 16 x 9 x 9\n",
    "        self.conv2 = nn.Conv2d(16, 32, 3,stride=2) # 32 x 4 x 4\n",
    "        self.fc1 = nn.Linear( 512, 120)   \n",
    "        self.fc2 = nn.Linear(120, 84)\n",
    "        self.fc3 = nn.Linear(84, 2)\n",
    "\n",
    "    def forward(self, x):\n",
    "        x = self.pool(F.relu(self.conv1(x)))\n",
    "        x = F.relu(self.conv2(x))\n",
    "        x = torch.flatten(x,1) \n",
    "        x = F.relu(self.fc1(x))\n",
    "        x = F.relu(self.fc2(x))\n",
    "        x = F.softmax(self.fc3(x), dim=1)\n",
    "        return x\n",
    "\n",
    "\n",
    "net = Net()"
   ]
  },
  {
   "cell_type": "code",
   "execution_count": 14,
   "metadata": {},
   "outputs": [],
   "source": [
    "# class DiceLoss(nn.Module):\n",
    "#     def __init__(self):\n",
    "#         super(DiceLoss, self).__init__()\n",
    "\n",
    "#     def forward(self, dats,labs):\n",
    "#         eps = 10**(-5)\n",
    "#         fin = torch.sum(dats[:,1]*labs[:,1])\n",
    "#         div = torch.sum(dats[:,1]) +torch.sum(labs[:,1])\n",
    "#         return 1 - ((2*fin+eps)/(div+eps))\n",
    "    \n",
    "criterion  = nn.CrossEntropyLoss() #DiceLoss()\n",
    "optimizer = optim.Adam(net.parameters(), lr=5e-5)"
   ]
  },
  {
   "cell_type": "code",
   "execution_count": 15,
   "metadata": {},
   "outputs": [
    {
     "data": {
      "text/plain": [
       "(180750,)"
      ]
     },
     "execution_count": 15,
     "metadata": {},
     "output_type": "execute_result"
    }
   ],
   "source": [
    "y_train.shape"
   ]
  },
  {
   "cell_type": "code",
   "execution_count": 18,
   "metadata": {},
   "outputs": [
    {
     "data": {
      "text/plain": [
       "(24000, 7, 22, 22)"
      ]
     },
     "execution_count": 18,
     "metadata": {},
     "output_type": "execute_result"
    }
   ],
   "source": [
    "X_val.shape"
   ]
  },
  {
   "cell_type": "code",
   "execution_count": 17,
   "metadata": {},
   "outputs": [],
   "source": [
    "train_dataset = TensorDataset(torch.from_numpy(X_train).type(torch.FloatTensor), torch.tensor(labels))\n",
    "train_loader = DataLoader(train_dataset,batch_size=50,sampler = RandomSampler(train_dataset, replacement=False, num_samples=60000)) \n",
    "val_dataset = TensorDataset(torch.from_numpy(X_val).type(torch.FloatTensor), torch.tensor(val_labels))\n",
    "val_loader = DataLoader(val_dataset, batch_size=50)#,sampler = RandomSampler(train_dataset, replacement=False, num_samples=30000))  "
   ]
  },
  {
   "cell_type": "code",
   "execution_count": 19,
   "metadata": {},
   "outputs": [
    {
     "name": "stdout",
     "output_type": "stream",
     "text": [
      "Epoch 1: \n",
      " Training Loss is: 633.4287391507623\n",
      " Validation Loss is: 250.26891622900945\n",
      "Epoch 2: \n",
      " Training Loss is: 611.0803749775891\n",
      " Validation Loss is: 189.06620773196212\n",
      "Epoch 3: \n",
      " Training Loss is: 605.1250925391922\n",
      " Validation Loss is: 169.8711605721712\n",
      "Epoch 4: \n",
      " Training Loss is: 599.3025507795807\n",
      " Validation Loss is: 170.67043050944812\n",
      "Epoch 5: \n",
      " Training Loss is: 593.9269688063865\n",
      " Validation Loss is: 167.1819516062736\n",
      "Epoch 6: \n",
      " Training Loss is: 584.8519042515761\n",
      " Validation Loss is: 244.51375219762303\n",
      "Epoch 7: \n",
      " Training Loss is: 569.7530796855687\n",
      " Validation Loss is: 162.67894119858735\n",
      "Epoch 8: \n",
      " Training Loss is: 549.0327988851077\n",
      " Validation Loss is: 176.6216382151842\n",
      "Epoch 9: \n",
      " Training Loss is: 525.2315534037349\n",
      " Validation Loss is: 165.70087236225604\n",
      "Epoch 10: \n",
      " Training Loss is: 508.94339902162505\n",
      " Validation Loss is: 173.6592703896763\n",
      "Epoch 11: \n",
      " Training Loss is: 492.2066630011792\n",
      " Validation Loss is: 175.87519907236108\n",
      "Epoch 12: \n",
      " Training Loss is: 482.78274932980503\n",
      " Validation Loss is: 189.9662246084213\n",
      "Epoch 13: \n",
      " Training Loss is: 471.1307273375989\n",
      " Validation Loss is: 208.36625227272486\n",
      "Epoch 14: \n",
      " Training Loss is: 461.9623775893452\n",
      " Validation Loss is: 173.73287584125995\n",
      "Epoch 15: \n",
      " Training Loss is: 450.26366217851637\n",
      " Validation Loss is: 177.31562941670413\n",
      "Epoch 16: \n",
      " Training Loss is: 445.02575363576415\n",
      " Validation Loss is: 179.27100081622606\n",
      "Epoch 17: \n",
      " Training Loss is: 440.2842264550922\n",
      " Validation Loss is: 196.4225713080168\n",
      "Epoch 18: \n",
      " Training Loss is: 434.6482625156633\n",
      " Validation Loss is: 182.36714437723185\n",
      "Epoch 19: \n",
      " Training Loss is: 430.0291427963975\n",
      " Validation Loss is: 168.28466750442976\n",
      "Epoch 20: \n",
      " Training Loss is: 426.1418173205853\n",
      " Validation Loss is: 176.1192820173502\n",
      "Epoch 21: \n",
      " Training Loss is: 426.311895216107\n",
      " Validation Loss is: 177.79642298877226\n",
      "Epoch 22: \n",
      " Training Loss is: 423.02181197822176\n",
      " Validation Loss is: 186.76248176932336\n",
      "Epoch 23: \n",
      " Training Loss is: 418.0481156581642\n",
      " Validation Loss is: 170.9391474539044\n",
      "Epoch 24: \n",
      " Training Loss is: 420.64275352120427\n",
      " Validation Loss is: 188.20650272786614\n",
      "Epoch 25: \n",
      " Training Loss is: 413.172283248901\n",
      " Validation Loss is: 167.9116830855607\n",
      "Epoch 26: \n",
      " Training Loss is: 414.0293956792361\n",
      " Validation Loss is: 200.80977371692643\n",
      "Epoch 27: \n",
      " Training Loss is: 409.2674314445253\n",
      " Validation Loss is: 175.81406741380695\n",
      "Epoch 28: \n",
      " Training Loss is: 408.37201412916136\n",
      " Validation Loss is: 164.64060236036772\n",
      "Epoch 29: \n",
      " Training Loss is: 405.51050085246555\n",
      " Validation Loss is: 209.1636583930255\n",
      "Epoch 30: \n",
      " Training Loss is: 403.77552586019016\n",
      " Validation Loss is: 168.38103348612773\n",
      "Epoch 31: \n",
      " Training Loss is: 403.2749760913847\n",
      " Validation Loss is: 207.7033335119486\n",
      "Epoch 32: \n",
      " Training Loss is: 402.7608722305297\n",
      " Validation Loss is: 163.34799633026117\n",
      "Epoch 33: \n",
      " Training Loss is: 401.72814293205766\n",
      " Validation Loss is: 174.1697329980136\n",
      "Epoch 34: \n",
      " Training Loss is: 400.0591483104232\n",
      " Validation Loss is: 188.15451704561713\n",
      "Epoch 35: \n",
      " Training Loss is: 399.7801879233123\n",
      " Validation Loss is: 195.73398826718332\n",
      "Epoch 36: \n",
      " Training Loss is: 395.0647879678014\n",
      " Validation Loss is: 205.16838142454623\n",
      "Epoch 37: \n",
      " Training Loss is: 394.62228344917276\n",
      " Validation Loss is: 168.24026267170882\n",
      "Epoch 38: \n",
      " Training Loss is: 393.9348592114442\n",
      " Validation Loss is: 164.09295016646382\n",
      "Epoch 39: \n",
      " Training Loss is: 393.21000884234974\n",
      " Validation Loss is: 163.83409649193283\n",
      "Epoch 40: \n",
      " Training Loss is: 394.062298513055\n",
      " Validation Loss is: 161.60999250710015\n",
      "Epoch 41: \n",
      " Training Loss is: 392.5289470446108\n",
      " Validation Loss is: 169.85693314135077\n",
      "Epoch 42: \n",
      " Training Loss is: 391.13703510045957\n",
      " Validation Loss is: 169.78706369698074\n",
      "Epoch 43: \n",
      " Training Loss is: 390.30740087330344\n",
      " Validation Loss is: 164.89653236746787\n",
      "Epoch 44: \n",
      " Training Loss is: 390.0754980134962\n",
      " Validation Loss is: 172.06107091248018\n",
      "Epoch 45: \n",
      " Training Loss is: 388.8805093103643\n",
      " Validation Loss is: 171.32955387353908\n",
      "Epoch 46: \n",
      " Training Loss is: 388.42115947365767\n",
      " Validation Loss is: 168.60411850392816\n",
      "Epoch 47: \n",
      " Training Loss is: 386.6095863759519\n",
      " Validation Loss is: 174.6763765263557\n",
      "Epoch 48: \n",
      " Training Loss is: 386.3499318802354\n",
      " Validation Loss is: 167.77810586690913\n",
      "Epoch 49: \n",
      " Training Loss is: 387.48813125967985\n",
      " Validation Loss is: 165.6563882589339\n",
      "Epoch 50: \n",
      " Training Loss is: 386.0666612160209\n",
      " Validation Loss is: 164.0090941381454\n",
      "Epoch 51: \n",
      " Training Loss is: 385.8564948916434\n",
      " Validation Loss is: 161.2153621274232\n",
      "Epoch 52: \n",
      " Training Loss is: 384.92451632976514\n",
      " Validation Loss is: 169.70400648951525\n",
      "Epoch 53: \n",
      " Training Loss is: 384.09956137120673\n",
      " Validation Loss is: 161.3399439001082\n",
      "Epoch 54: \n",
      " Training Loss is: 384.47250763773934\n",
      " Validation Loss is: 168.7061985969543\n",
      "Epoch 55: \n",
      " Training Loss is: 382.28853148877624\n",
      " Validation Loss is: 159.82757662951926\n",
      "Epoch 56: \n",
      " Training Loss is: 383.68681992292375\n",
      " Validation Loss is: 163.4579476124049\n",
      "Epoch 57: \n",
      " Training Loss is: 382.74252210259385\n",
      " Validation Loss is: 159.62510029196747\n",
      "Epoch 58: \n",
      " Training Loss is: 383.018401316404\n",
      " Validation Loss is: 166.32673155605792\n",
      "Epoch 59: \n",
      " Training Loss is: 383.08048352897157\n",
      " Validation Loss is: 181.289639814496\n",
      "Epoch 60: \n",
      " Training Loss is: 382.43780798673635\n",
      " Validation Loss is: 161.47004245936867\n",
      "Finished Training\n"
     ]
    }
   ],
   "source": [
    "total_epochs = 60\n",
    "losses = np.zeros(total_epochs)\n",
    "val_losses = np.zeros(total_epochs)\n",
    "for epoch in range(total_epochs):  # loop over the dataset multiple times\n",
    "\n",
    "    running_loss = 0.0\n",
    "\n",
    "    # rand_list = np.arange(mask_list.shape[0])\n",
    "    # np.random.shuffle(rand_list)\n",
    "\n",
    "    # new_img_list = img_list[rand_list,:,:]\n",
    "    # new_labels = labels[rand_list,:]\n",
    "    \n",
    "    for batch, (inputs, lab) in enumerate(train_loader):\n",
    "\n",
    "        optimizer.zero_grad()\n",
    "\n",
    "        # forward + backward + optimize\n",
    "        outputs = net(inputs)\n",
    "        loss = criterion(outputs, lab)\n",
    "        loss.backward()\n",
    "        optimizer.step()\n",
    "\n",
    "        # print statistics\n",
    "        running_loss += loss.item()\n",
    "        # if i % 2000 == 1999:    # print every 2000 mini-batches\n",
    "        #     print(f'[{epoch + 1}, {i + 1:5d}] loss: {running_loss / 2000:.3f}')\n",
    "        #     running_loss = 0.0 \n",
    "    \n",
    "    with torch.no_grad():\n",
    "        for batch, (val_inputs, val_labs) in enumerate(val_loader):#val_sample in test_loader:\n",
    "            val_outputs = net(val_inputs)\n",
    "            valloss = criterion(val_outputs, val_labs)\n",
    "            val_losses[epoch] +=valloss.item()\n",
    "\n",
    "    print(\"Epoch \"+str(epoch+1)+\": \\n Training Loss is: \"+str(running_loss))\n",
    "    print(\" Validation Loss is: \"+str(val_losses[epoch] ))\n",
    "    losses[epoch] = running_loss\n",
    "print('Finished Training')"
   ]
  },
  {
   "cell_type": "code",
   "execution_count": 20,
   "metadata": {},
   "outputs": [
    {
     "data": {
      "image/png": "[encoded data removed]",
      "text/plain": [
       "<Figure size 1000x1000 with 1 Axes>"
      ]
     },
     "metadata": {},
     "output_type": "display_data"
    }
   ],
   "source": [
    "plt.figure(figsize=(10,10))\n",
    "plt.plot(np.arange(total_epochs),losses, label=\"train\")\n",
    "plt.plot(np.arange(total_epochs),val_losses, label=\"validation\")\n",
    "plt.legend()\n",
    "plt.show()"
   ]
  },
  {
   "cell_type": "code",
   "execution_count": null,
   "metadata": {},
   "outputs": [],
   "source": []
  }
 ],
 "metadata": {
  "kernelspec": {
   "display_name": "loopr_env",
   "language": "python",
   "name": "python3"
  },
  "language_info": {
   "codemirror_mode": {
    "name": "ipython",
    "version": 3
   },
   "file_extension": ".py",
   "mimetype": "text/x-python",
   "name": "python",
   "nbconvert_exporter": "python",
   "pygments_lexer": "ipython3",
   "version": "3.11.7"
  }
 },
 "nbformat": 4,
 "nbformat_minor": 2
}
