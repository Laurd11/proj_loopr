{
 "cells": [
  {
   "cell_type": "code",
   "execution_count": 25,
   "metadata": {},
   "outputs": [],
   "source": [
    "import numpy as np\n",
    "import cv2\n",
    "import matplotlib.pyplot as plt\n",
    "import torch\n",
    "from torch import nn\n",
    "# from torch.utils.data import DataLoader\n",
    "# from torchvision import datasets, transforms\n",
    "import torch.nn.functional as F\n",
    "import torch.optim as optim\n",
    "from torch.utils.data import TensorDataset, DataLoader, RandomSampler\n",
    "from sklearn.model_selection import train_test_split\n"
   ]
  },
  {
   "cell_type": "code",
   "execution_count": 24,
   "metadata": {},
   "outputs": [
    {
     "data": {
      "text/plain": [
       "0"
      ]
     },
     "execution_count": 24,
     "metadata": {},
     "output_type": "execute_result"
    }
   ],
   "source": [
    "import os \n",
    "g = os.listdir('C:/Users/laure/Documents/proj_loopr/processed_images')\n",
    "int(g[9][5:8])"
   ]
  },
  {
   "cell_type": "code",
   "execution_count": 2,
   "metadata": {},
   "outputs": [],
   "source": [
    "def create_gaborfilter():\n",
    "    # This function is designed to produce a set of GaborFilters \n",
    "    # an even distribution of theta values equally distributed amongst pi rad / 180 degree\n",
    "     \n",
    "    filters = []\n",
    "    num_filters = 32\n",
    "    ksize = 16  # The local area to evaluate\n",
    "    sigma = 2. #3.0  # Larger Values produce more edges\n",
    "    lambd = 20. #10.0\n",
    "    gamma = 2. #0.5\n",
    "    psi = 0.  # Offset value - lower generates cleaner results\n",
    "    for theta in np.linspace(0, np.pi, num_filters, endpoint=False):  # Theta is the orientation for edge detection\n",
    "        kern = cv2.getGaborKernel((ksize, ksize), sigma, theta, lambd, gamma, psi, ktype=cv2.CV_64F)\n",
    "        kern /= 1.0 * kern.sum()  # Brightness normalization\n",
    "        filters.append(kern)\n",
    "    return filters\n",
    "\n",
    "def apply_filter(img, filters):\n",
    "# This general function is designed to apply filters to our image\n",
    "     \n",
    "    # First create a numpy array the same size as our input image\n",
    "    newimage = np.zeros_like(img)\n",
    "     \n",
    "    # Starting with a blank image, we loop through the images and apply our Gabor Filter\n",
    "    # On each iteration, we take the highest value (super impose), until we have the max value across all filters\n",
    "    # The final image is returned\n",
    "    depth = -1 # remain depth same as original image\n",
    "     \n",
    "    for kern in filters:  # Loop through the kernels in our GaborFilter\n",
    "        image_filter = cv2.filter2D(img, depth, kern)  #Apply filter to image\n",
    "         \n",
    "        # Using Numpy.maximum to compare our filter and cumulative image, taking the higher value (max)\n",
    "        np.maximum(newimage, image_filter, newimage)\n",
    "    return newimage\n",
    "\n",
    "def sliding_window(image, sq_size = 32, pix_steps=4):\n",
    "    img_list = []\n",
    "    for i in np.arange(0,image.shape[0]-sq_size+pix_steps,pix_steps):\n",
    "        for j in np.arange(0,image.shape[1]-sq_size+pix_steps,pix_steps):\n",
    "            img_list.append(image[i:i+sq_size,j:j+sq_size])\n",
    "    return np.array(img_list)"
   ]
  },
  {
   "cell_type": "code",
   "execution_count": 3,
   "metadata": {},
   "outputs": [],
   "source": [
    "class Net(nn.Module):\n",
    "    def __init__(self):\n",
    "        super().__init__()\n",
    "        self.conv1 = nn.Conv2d(1, 4, 2)\n",
    "        self.pool = nn.MaxPool2d(2,stride=1)\n",
    "        self.conv2 = nn.Conv2d(4, 10, 4,2)\n",
    "        self.fc1 = nn.Linear( 1960, 120)   \n",
    "        self.fc2 = nn.Linear(120, 84)\n",
    "        self.fc3 = nn.Linear(84, 2)\n",
    "\n",
    "    def forward(self, x):\n",
    "        x = self.pool(F.relu(self.conv1(x)))\n",
    "        x = F.relu(self.conv2(x))\n",
    "        x = torch.flatten(x,1) \n",
    "        x = F.relu(self.fc1(x))\n",
    "        x = F.relu(self.fc2(x))\n",
    "        x = F.softmax(self.fc3(x), dim=1)\n",
    "        return x\n",
    "\n",
    "\n",
    "net = Net()"
   ]
  },
  {
   "cell_type": "code",
   "execution_count": 4,
   "metadata": {},
   "outputs": [],
   "source": [
    "\n",
    "# criterion = nn.CrossEntropyLoss()\n",
    "# class DiceLoss(nn.Module):\n",
    "#     def __init__(self):\n",
    "#         super(DiceLoss, self).__init__()\n",
    "\n",
    "#     def forward(self, dats,labs):\n",
    "#         eps = 10**(-5)\n",
    "#         fin = torch.sum(dats[:,1]*labs[:,1])\n",
    "#         div = torch.sum(dats[:,1]) +torch.sum(labs[:,1])\n",
    "#         return 1 - ((2*fin+eps)/(div+eps))\n",
    "\n",
    "# class DiceLoss(nn.Module):\n",
    "#     def __init__(self, weight=None, size_average=True):\n",
    "#         super(DiceLoss, self).__init__()\n",
    "\n",
    "#     def forward(self, inputs, targets, smooth=1):\n",
    "\n",
    "#         inputs = F.sigmoid(inputs)\n",
    "\n",
    "#         inputs = inputs.view(-1)\n",
    "#         targets = targets.view(-1)\n",
    "\n",
    "#         intersection = (inputs * targets).sum()\n",
    "#         dice = (2.*intersection + smooth)/(inputs.sum() + targets.sum() + smooth)\n",
    "\n",
    "#         return 1 - dice\n",
    "\n",
    "criterion  = nn.CrossEntropyLoss() #DiceLoss()\n",
    "optimizer = optim.Adam(net.parameters(), lr=5e-5)"
   ]
  },
  {
   "cell_type": "code",
   "execution_count": 5,
   "metadata": {},
   "outputs": [
    {
     "name": "stdout",
     "output_type": "stream",
     "text": [
      "(57969, 32, 32)\n",
      "(115938, 32, 32)\n"
     ]
    }
   ],
   "source": [
    "img = cv2.imread('C:/Users/laure/Documents/proj_loopr/archive/Defect_images/0027_019_02.png',cv2.IMREAD_GRAYSCALE)\n",
    "# img = cv2.GaussianBlur(img,(11,11),0)\n",
    "gfilters = create_gaborfilter()\n",
    "image_g = apply_filter(img, gfilters)\n",
    "\n",
    "img_list = sliding_window(image_g.astype(np.single))\n",
    "print(img_list.shape)\n",
    "\n",
    "img = cv2.imread('C:/Users/laure/Documents/proj_loopr/archive/Defect_images/0045_019_04.png',cv2.IMREAD_GRAYSCALE)\n",
    "# img = cv2.GaussianBlur(img,(11,11),0)\n",
    "# gfilters = create_gaborfilter()\n",
    "image_g = apply_filter(img, gfilters)\n",
    "\n",
    "img_list = np.vstack((img_list,sliding_window(image_g.astype(np.single))))\n",
    "print(img_list.shape)\n",
    "\n",
    "# norm_img_list = img_list -np.sum(img_list,axis=0)\n",
    "# norm_img_list = norm_img_list/np.sqrt(np.mean(norm_img_list**2))\n",
    "# # norm_img_list = norm_img_list.reshape(960,256**2)\n",
    "# print(norm_img_list.shape)\n"
   ]
  },
  {
   "cell_type": "code",
   "execution_count": 6,
   "metadata": {},
   "outputs": [],
   "source": [
    "mask_im = cv2.imread('C:/Users/laure/Documents/proj_loopr/archive/Mask_images/0027_019_02_mask.png',cv2.IMREAD_GRAYSCALE)\n",
    "mask_list = sliding_window(mask_im)\n",
    "mask_im = cv2.imread('C:/Users/laure/Documents/proj_loopr/archive/Mask_images/0045_019_04_mask.png',cv2.IMREAD_GRAYSCALE)\n",
    "mask_list = np.vstack((mask_list, sliding_window(mask_im)))\n",
    "labels = np.zeros(img_list.shape[0])\n",
    "for el in range(mask_list.shape[0]):\n",
    "    if np.amax(mask_list[el])>0:\n",
    "        labels[el]=1\n",
    "    # else:\n",
    "    #     labels[el,0]=1."
   ]
  },
  {
   "cell_type": "code",
   "execution_count": 7,
   "metadata": {},
   "outputs": [],
   "source": [
    "X_train, X_test, y_train, y_test = train_test_split(img_list, labels, test_size=0.1, random_state=81)\n"
   ]
  },
  {
   "cell_type": "code",
   "execution_count": 8,
   "metadata": {},
   "outputs": [
    {
     "data": {
      "text/plain": [
       "15.0"
      ]
     },
     "execution_count": 8,
     "metadata": {},
     "output_type": "execute_result"
    }
   ],
   "source": [
    "np.sum(y_test)"
   ]
  },
  {
   "cell_type": "code",
   "execution_count": 9,
   "metadata": {},
   "outputs": [],
   "source": [
    "from imblearn.over_sampling import SMOTE\n",
    "\n",
    "smote = SMOTE(random_state=81)\n",
    "X_train, y_train = smote.fit_resample(X_train.reshape(-1, 32**2), y_train)\n",
    "\n",
    "X_train = X_train.reshape(-1, 32, 32)\n",
    "labels = np.zeros((X_train.shape[0], 2))\n",
    "labels[:,1] = y_train\n",
    "labels[np.argwhere(y_train==0).flatten(),0] = 1\n",
    "\n",
    "test_labels = np.zeros((X_test.shape[0], 2))\n",
    "test_labels[:,1] = y_test\n",
    "test_labels[np.argwhere(y_test==0).flatten(),0] = 1"
   ]
  },
  {
   "cell_type": "code",
   "execution_count": 10,
   "metadata": {},
   "outputs": [
    {
     "data": {
      "text/plain": [
       "(104180, 1)"
      ]
     },
     "execution_count": 10,
     "metadata": {},
     "output_type": "execute_result"
    }
   ],
   "source": [
    "np.argwhere(labels[:,1]>0).shape"
   ]
  },
  {
   "cell_type": "code",
   "execution_count": 11,
   "metadata": {},
   "outputs": [
    {
     "data": {
      "text/plain": [
       "(208360, 32, 32)"
      ]
     },
     "execution_count": 11,
     "metadata": {},
     "output_type": "execute_result"
    }
   ],
   "source": [
    "X_train.shape"
   ]
  },
  {
   "cell_type": "code",
   "execution_count": 12,
   "metadata": {},
   "outputs": [
    {
     "data": {
      "text/plain": [
       "(208360, 2)"
      ]
     },
     "execution_count": 12,
     "metadata": {},
     "output_type": "execute_result"
    }
   ],
   "source": [
    "labels.shape"
   ]
  },
  {
   "cell_type": "code",
   "execution_count": 13,
   "metadata": {},
   "outputs": [],
   "source": [
    "train_dataset = TensorDataset(torch.from_numpy(X_train.reshape(-1,1,32,32)), torch.tensor(labels))\n",
    "train_loader = DataLoader(train_dataset,batch_size=50,sampler = RandomSampler(train_dataset, replacement=False, num_samples=50000)) \n",
    "val_dataset = TensorDataset(torch.from_numpy(X_test.reshape(-1,1,32,32)), torch.tensor(test_labels))\n",
    "val_loader = DataLoader(val_dataset, batch_size=50) "
   ]
  },
  {
   "cell_type": "code",
   "execution_count": 14,
   "metadata": {},
   "outputs": [
    {
     "data": {
      "text/plain": [
       "(115938, 1, 32, 32)"
      ]
     },
     "execution_count": 14,
     "metadata": {},
     "output_type": "execute_result"
    }
   ],
   "source": [
    "img_list.reshape(-1,1,32,32).shape"
   ]
  },
  {
   "cell_type": "code",
   "execution_count": 15,
   "metadata": {},
   "outputs": [
    {
     "data": {
      "text/plain": [
       "104180.0"
      ]
     },
     "execution_count": 15,
     "metadata": {},
     "output_type": "execute_result"
    }
   ],
   "source": [
    "np.sum(labels[:,1])"
   ]
  },
  {
   "cell_type": "code",
   "execution_count": 16,
   "metadata": {},
   "outputs": [
    {
     "name": "stdout",
     "output_type": "stream",
     "text": [
      "Epoch 1: \n",
      " Training Loss is: 689.9980454134942\n",
      " Validation Loss is: 145.1823539300939\n",
      "Epoch 2: \n",
      " Training Loss is: 628.2845839190489\n",
      " Validation Loss is: 103.71205641096286\n",
      "Epoch 3: \n",
      " Training Loss is: 458.28163229405857\n",
      " Validation Loss is: 85.91090893932363\n",
      "Epoch 4: \n",
      " Training Loss is: 398.0878499633072\n",
      " Validation Loss is: 100.10553968784482\n",
      "Epoch 5: \n",
      " Training Loss is: 378.466938974857\n",
      " Validation Loss is: 91.14695420156825\n",
      "Epoch 6: \n",
      " Training Loss is: 364.26843053758205\n",
      " Validation Loss is: 85.95404841282154\n",
      "Epoch 7: \n",
      " Training Loss is: 356.85688416779055\n",
      " Validation Loss is: 81.50447306776593\n",
      "Epoch 8: \n",
      " Training Loss is: 347.7010504883527\n",
      " Validation Loss is: 84.51289564511994\n",
      "Epoch 9: \n",
      " Training Loss is: 339.5092954045534\n",
      " Validation Loss is: 79.43965007722379\n",
      "Epoch 10: \n",
      " Training Loss is: 334.28878259897255\n",
      " Validation Loss is: 80.96224745295261\n",
      "Epoch 11: \n",
      " Training Loss is: 330.19404477953935\n",
      " Validation Loss is: 76.09004522288386\n",
      "Epoch 12: \n",
      " Training Loss is: 326.79973313927616\n",
      " Validation Loss is: 77.13155351814898\n",
      "Epoch 13: \n",
      " Training Loss is: 323.371474072337\n",
      " Validation Loss is: 76.18594168365004\n",
      "Epoch 14: \n",
      " Training Loss is: 322.92773962736175\n",
      " Validation Loss is: 75.51663730269128\n",
      "Epoch 15: \n",
      " Training Loss is: 320.5718662291765\n",
      " Validation Loss is: 74.05030433064152\n",
      "Epoch 16: \n",
      " Training Loss is: 319.54440420508365\n",
      " Validation Loss is: 74.40354204310613\n",
      "Epoch 17: \n",
      " Training Loss is: 319.0093362820147\n",
      " Validation Loss is: 74.29426310880623\n",
      "Epoch 18: \n",
      " Training Loss is: 318.1251159828902\n",
      " Validation Loss is: 73.94701987659388\n",
      "Epoch 19: \n",
      " Training Loss is: 317.55731843829193\n",
      " Validation Loss is: 74.27852621623067\n",
      "Epoch 20: \n",
      " Training Loss is: 316.8099027222396\n",
      " Validation Loss is: 74.38001006570728\n",
      "Finished Training\n"
     ]
    }
   ],
   "source": [
    "# batch_size=5\n",
    "total_epochs = 50\n",
    "losses = np.zeros(total_epochs)\n",
    "for epoch in range(total_epochs):  # loop over the dataset multiple times\n",
    "\n",
    "    running_loss = 0.0\n",
    "\n",
    "    # rand_list = np.arange(mask_list.shape[0])\n",
    "    # np.random.shuffle(rand_list)\n",
    "\n",
    "    # new_img_list = img_list[rand_list,:,:]\n",
    "    # new_labels = labels[rand_list,:]\n",
    "    \n",
    "    for batch, (inputs, lab) in enumerate(train_loader):\n",
    "        # get the inputs; data is a list of [inputs, labels]\n",
    "        # inputs, labels = data\n",
    "        # inputs = torch.from_numpy(new_img_list[i*batch_size:(i+1)*batch_size,:,:].reshape(batch_size,1,32,32))\n",
    "        # lab = torch.tensor(new_labels[i*batch_size:(i+1)*batch_size,:])\n",
    "\n",
    "        # zero the parameter gradients\n",
    "        optimizer.zero_grad()\n",
    "\n",
    "        # forward + backward + optimize\n",
    "        outputs = net(inputs)\n",
    "        loss = criterion(outputs, lab)\n",
    "        loss.backward()\n",
    "        optimizer.step()\n",
    "\n",
    "        # print statistics\n",
    "        running_loss += loss.item()\n",
    "        # if i % 2000 == 1999:    # print every 2000 mini-batches\n",
    "        #     print(f'[{epoch + 1}, {i + 1:5d}] loss: {running_loss / 2000:.3f}')\n",
    "        #     running_loss = 0.0 \n",
    "    \n",
    "    with torch.no_grad():\n",
    "        val_loss = 0.\n",
    "        for batch, (val_inputs, val_labels) in enumerate(val_loader):#val_sample in test_loader:\n",
    "        #         #val_features, val_labels = next(iter(test_loader))\n",
    "            val_outputs = net(val_inputs)\n",
    "            valloss = criterion(val_outputs, val_labels)\n",
    "            val_loss +=valloss.item()\n",
    "\n",
    "    print(\"Epoch \"+str(epoch+1)+\": \\n Training Loss is: \"+str(running_loss))\n",
    "    print(\" Validation Loss is: \"+str(val_loss))\n",
    "    losses[epoch] = running_loss\n",
    "print('Finished Training')"
   ]
  },
  {
   "cell_type": "code",
   "execution_count": 17,
   "metadata": {},
   "outputs": [
    {
     "data": {
      "image/png": "[encoded data removed]",
      "text/plain": [
       "<Figure size 640x480 with 1 Axes>"
      ]
     },
     "metadata": {},
     "output_type": "display_data"
    }
   ],
   "source": [
    "plt.figure()\n",
    "plt.plot(np.arange(total_epochs),losses,label=\"Train\")\n",
    "# plt.plot(np.arange(total_epochs),val_losses, label=\"Val\")\n",
    "plt.legend()\n",
    "plt.show()"
   ]
  },
  {
   "cell_type": "code",
   "execution_count": 28,
   "metadata": {},
   "outputs": [
    {
     "data": {
      "text/plain": [
       "tensor([0., 0., 0., 0., 0., 0., 0., 0., 0., 0., 0., 0., 0., 0., 0., 0., 0., 0., 0., 0., 0., 0., 0., 0.,\n",
       "        0., 0., 0., 0., 0., 0., 0., 0., 0., 0., 0., 0., 0., 0., 0., 0., 0., 0., 0., 0., 0., 0., 0., 0.,\n",
       "        0., 0.], dtype=torch.float64)"
      ]
     },
     "execution_count": 28,
     "metadata": {},
     "output_type": "execute_result"
    }
   ],
   "source": [
    "criterion(outputs, lab)"
   ]
  },
  {
   "cell_type": "code",
   "execution_count": 50,
   "metadata": {},
   "outputs": [],
   "source": [
    "eps = 10**(-10)\n",
    "fin = torch.sum(outputs[:,1]*lab[:,1])\n",
    "div = torch.sum(outputs[:,1]) +torch.sum(lab[:,1])"
   ]
  },
  {
   "cell_type": "code",
   "execution_count": 52,
   "metadata": {},
   "outputs": [
    {
     "data": {
      "text/plain": [
       "tensor(2.5053, dtype=torch.float64, grad_fn=<AddBackward0>)"
      ]
     },
     "execution_count": 52,
     "metadata": {},
     "output_type": "execute_result"
    }
   ],
   "source": [
    "div"
   ]
  },
  {
   "cell_type": "code",
   "execution_count": 52,
   "metadata": {},
   "outputs": [
    {
     "data": {
      "image/png": "[encoded data removed]",
      "text/plain": [
       "<Figure size 640x480 with 1 Axes>"
      ]
     },
     "metadata": {},
     "output_type": "display_data"
    }
   ],
   "source": [
    "\n",
    "plt.imshow(X_train[22840,:,:])\n",
    "plt.show()"
   ]
  },
  {
   "cell_type": "code",
   "execution_count": 53,
   "metadata": {},
   "outputs": [
    {
     "data": {
      "text/plain": [
       "tensor([[1.0000e+00, 9.4098e-12],\n",
       "        [1.0000e+00, 5.8172e-12],\n",
       "        [1.0000e+00, 7.2447e-19],\n",
       "        [1.0000e+00, 4.5831e-19],\n",
       "        [1.0000e+00, 2.4411e-22],\n",
       "        [1.0000e+00, 2.6417e-18],\n",
       "        [3.0331e-07, 1.0000e+00],\n",
       "        [1.3129e-06, 1.0000e+00],\n",
       "        [1.1531e-09, 1.0000e+00],\n",
       "        [5.1686e-08, 1.0000e+00],\n",
       "        [2.5635e-11, 1.0000e+00],\n",
       "        [1.5481e-09, 1.0000e+00],\n",
       "        [1.7474e-06, 1.0000e+00],\n",
       "        [5.7472e-05, 9.9994e-01],\n",
       "        [6.8163e-04, 9.9932e-01],\n",
       "        [1.0000e+00, 3.9844e-27],\n",
       "        [1.0000e+00, 8.2854e-34],\n",
       "        [1.0000e+00, 1.2769e-28],\n",
       "        [1.0000e+00, 4.5010e-18],\n",
       "        [1.0000e+00, 4.1287e-18]], grad_fn=<SoftmaxBackward0>)"
      ]
     },
     "execution_count": 53,
     "metadata": {},
     "output_type": "execute_result"
    }
   ],
   "source": [
    "net.forward(torch.from_numpy(X_train[22830:22850,:,:].reshape(20,1,32,32)))"
   ]
  },
  {
   "cell_type": "code",
   "execution_count": 54,
   "metadata": {},
   "outputs": [
    {
     "data": {
      "text/plain": [
       "array([[1., 0.],\n",
       "       [1., 0.],\n",
       "       [1., 0.],\n",
       "       [1., 0.],\n",
       "       [1., 0.],\n",
       "       [1., 0.],\n",
       "       [0., 1.],\n",
       "       [0., 1.],\n",
       "       [0., 1.],\n",
       "       [0., 1.],\n",
       "       [0., 1.],\n",
       "       [0., 1.],\n",
       "       [0., 1.],\n",
       "       [0., 1.],\n",
       "       [0., 1.],\n",
       "       [1., 0.],\n",
       "       [1., 0.],\n",
       "       [1., 0.],\n",
       "       [1., 0.],\n",
       "       [1., 0.]])"
      ]
     },
     "execution_count": 54,
     "metadata": {},
     "output_type": "execute_result"
    }
   ],
   "source": [
    "labels[22830:22850,:]"
   ]
  },
  {
   "cell_type": "code",
   "execution_count": 24,
   "metadata": {},
   "outputs": [
    {
     "data": {
      "text/plain": [
       "tensor([[1., 0.]], grad_fn=<SoftmaxBackward0>)"
      ]
     },
     "execution_count": 24,
     "metadata": {},
     "output_type": "execute_result"
    }
   ],
   "source": [
    "net.forward(torch.from_numpy(img_list[67,:,:].reshape(1,1,32,32)))"
   ]
  }
 ],
 "metadata": {
  "kernelspec": {
   "display_name": "loopr_env",
   "language": "python",
   "name": "python3"
  },
  "language_info": {
   "codemirror_mode": {
    "name": "ipython",
    "version": 3
   },
   "file_extension": ".py",
   "mimetype": "text/x-python",
   "name": "python",
   "nbconvert_exporter": "python",
   "pygments_lexer": "ipython3",
   "version": "3.11.7"
  }
 },
 "nbformat": 4,
 "nbformat_minor": 2
}
