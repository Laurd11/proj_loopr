{
 "cells": [
  {
   "cell_type": "code",
   "execution_count": 1,
   "metadata": {},
   "outputs": [],
   "source": [
    "import numpy as np\n",
    "import matplotlib.pyplot as plt\n",
    "import torch\n",
    "from torch import nn\n",
    "import os\n",
    "# from torch.utils.data import DataLoader\n",
    "# from torchvision import datasets, transforms\n",
    "import torch.nn.functional as F\n",
    "\n",
    "from torch.utils.data import TensorDataset, DataLoader, RandomSampler\n",
    "from sklearn.model_selection import train_test_split\n",
    "from utils import *\n"
   ]
  },
  {
   "cell_type": "code",
   "execution_count": 2,
   "metadata": {},
   "outputs": [],
   "source": [
    "# class Net(nn.Module):\n",
    "#     def __init__(self):\n",
    "#         super().__init__() # 7 x 22 x 22\n",
    "#         self.conv1 = nn.Conv2d(7, 16, 4,stride=2) # 16 x 10 x 10\n",
    "#         self.pool = nn.MaxPool2d(2,stride=1) # 16 x 9 x 9\n",
    "#         self.conv2 = nn.Conv2d(16, 32, 3,stride=2) # 32 x 4 x 4\n",
    "#         self.drop = nn.Dropout(p=0.15)\n",
    "#         self.fc1 = nn.Linear( 512, 120)   \n",
    "#         self.fc2 = nn.Linear(120, 84)\n",
    "#         self.fc3 = nn.Linear(84, 2)\n",
    "\n",
    "#     def forward(self, x):\n",
    "#         x = self.pool(F.relu(self.conv1(x)))\n",
    "#         x = F.relu(self.conv2(x))\n",
    "#         x = torch.flatten(x,1) \n",
    "#         x = self.drop(x)\n",
    "#         x = F.relu(self.fc1(x))\n",
    "#         x = F.relu(self.fc2(x))\n",
    "#         x = F.softmax(self.fc3(x), dim=1)\n",
    "#         return x\n",
    "    \n",
    "# def retrieve_images(fil_dir):\n",
    "#     sample_list = os.listdir(fil_dir)\n",
    "#     img_list = np.zeros((len(sample_list),7,40,500))\n",
    "#     ind = 0\n",
    "#     for file_name in sample_list:\n",
    "#         img_list[ind,:,:,:] = np.load(os.path.join(fil_dir,file_name))\n",
    "#         ind+=1\n",
    "#     return img_list[:ind,:,:,:]\n",
    "\n",
    "# def retrieve_masks(fil_dir):\n",
    "#     sample_list = os.listdir(fil_dir)\n",
    "#     img_list = np.zeros((len(sample_list),40,500))\n",
    "#     ind = 0\n",
    "#     for file_name in sample_list:\n",
    "#         img_list[ind,:,:] = np.load(os.path.join(fil_dir,file_name))\n",
    "#         ind+=1\n",
    "#     return img_list.reshape(-1,1,40,500)[:ind,:,:,:]\n",
    "\n",
    "# def get_windowed_data(imgs, masks):\n",
    "#     windows_per_im = 10*240\n",
    "#     fin_data = np.zeros((imgs.shape[0]*windows_per_im,7,22,22))\n",
    "#     fin_labs = np.zeros((imgs.shape[0]*windows_per_im,1))\n",
    "#     for ind in range(imgs.shape[0]):\n",
    "#         fin_data[ind*windows_per_im:(ind+1)*windows_per_im,:,:,:] = sliding_window(imgs[ind,:,:,:])\n",
    "#         mask_windows = sliding_window(masks[ind,:,:,:])\n",
    "#         for el in range(mask_windows.shape[0]):\n",
    "#             if np.amax(mask_windows[el])>0:\n",
    "#                 fin_labs[ind*windows_per_im+el]=1\n",
    "#     return fin_data, fin_labs\n",
    "\n",
    "# def sliding_window(image, sq_size = 22, pix_steps=2):\n",
    "#     img_list = []\n",
    "#     for i in np.arange(0,image.shape[1]-sq_size+pix_steps,pix_steps):\n",
    "#         for j in np.arange(0,image.shape[2]-sq_size+pix_steps,pix_steps):\n",
    "#             img_list.append(image[:,i:i+sq_size,j:j+sq_size])\n",
    "#     return np.array(img_list)\n"
   ]
  },
  {
   "cell_type": "code",
   "execution_count": 3,
   "metadata": {},
   "outputs": [
    {
     "ename": "FileNotFoundError",
     "evalue": "[Errno 2] No such file or directory: 'C:/Users/laure/Documents/proj_loopr/models_2_21_6_dropout_43tp_93tn/trained_net_70_epo.pth'",
     "output_type": "error",
     "traceback": [
      "\u001b[1;31m---------------------------------------------------------------------------\u001b[0m",
      "\u001b[1;31mFileNotFoundError\u001b[0m                         Traceback (most recent call last)",
      "Cell \u001b[1;32mIn[3], line 2\u001b[0m\n\u001b[0;32m      1\u001b[0m net \u001b[38;5;241m=\u001b[39m Net_result()\n\u001b[1;32m----> 2\u001b[0m net\u001b[38;5;241m.\u001b[39mload_state_dict(torch\u001b[38;5;241m.\u001b[39mload(\u001b[38;5;124m\"\u001b[39m\u001b[38;5;124mC:/Users/laure/Documents/proj_loopr/models_2_21_6_dropout_43tp_93tn/trained_net_70_epo.pth\u001b[39m\u001b[38;5;124m\"\u001b[39m))\n\u001b[0;32m      3\u001b[0m net\u001b[38;5;241m.\u001b[39meval()\n",
      "File \u001b[1;32mc:\\Users\\laure\\anaconda3\\envs\\loopr_env\\Lib\\site-packages\\torch\\serialization.py:998\u001b[0m, in \u001b[0;36mload\u001b[1;34m(f, map_location, pickle_module, weights_only, mmap, **pickle_load_args)\u001b[0m\n\u001b[0;32m    995\u001b[0m \u001b[38;5;28;01mif\u001b[39;00m \u001b[38;5;124m'\u001b[39m\u001b[38;5;124mencoding\u001b[39m\u001b[38;5;124m'\u001b[39m \u001b[38;5;129;01mnot\u001b[39;00m \u001b[38;5;129;01min\u001b[39;00m pickle_load_args\u001b[38;5;241m.\u001b[39mkeys():\n\u001b[0;32m    996\u001b[0m     pickle_load_args[\u001b[38;5;124m'\u001b[39m\u001b[38;5;124mencoding\u001b[39m\u001b[38;5;124m'\u001b[39m] \u001b[38;5;241m=\u001b[39m \u001b[38;5;124m'\u001b[39m\u001b[38;5;124mutf-8\u001b[39m\u001b[38;5;124m'\u001b[39m\n\u001b[1;32m--> 998\u001b[0m \u001b[38;5;28;01mwith\u001b[39;00m _open_file_like(f, \u001b[38;5;124m'\u001b[39m\u001b[38;5;124mrb\u001b[39m\u001b[38;5;124m'\u001b[39m) \u001b[38;5;28;01mas\u001b[39;00m opened_file:\n\u001b[0;32m    999\u001b[0m     \u001b[38;5;28;01mif\u001b[39;00m _is_zipfile(opened_file):\n\u001b[0;32m   1000\u001b[0m         \u001b[38;5;66;03m# The zipfile reader is going to advance the current file position.\u001b[39;00m\n\u001b[0;32m   1001\u001b[0m         \u001b[38;5;66;03m# If we want to actually tail call to torch.jit.load, we need to\u001b[39;00m\n\u001b[0;32m   1002\u001b[0m         \u001b[38;5;66;03m# reset back to the original position.\u001b[39;00m\n\u001b[0;32m   1003\u001b[0m         orig_position \u001b[38;5;241m=\u001b[39m opened_file\u001b[38;5;241m.\u001b[39mtell()\n",
      "File \u001b[1;32mc:\\Users\\laure\\anaconda3\\envs\\loopr_env\\Lib\\site-packages\\torch\\serialization.py:445\u001b[0m, in \u001b[0;36m_open_file_like\u001b[1;34m(name_or_buffer, mode)\u001b[0m\n\u001b[0;32m    443\u001b[0m \u001b[38;5;28;01mdef\u001b[39;00m \u001b[38;5;21m_open_file_like\u001b[39m(name_or_buffer, mode):\n\u001b[0;32m    444\u001b[0m     \u001b[38;5;28;01mif\u001b[39;00m _is_path(name_or_buffer):\n\u001b[1;32m--> 445\u001b[0m         \u001b[38;5;28;01mreturn\u001b[39;00m _open_file(name_or_buffer, mode)\n\u001b[0;32m    446\u001b[0m     \u001b[38;5;28;01melse\u001b[39;00m:\n\u001b[0;32m    447\u001b[0m         \u001b[38;5;28;01mif\u001b[39;00m \u001b[38;5;124m'\u001b[39m\u001b[38;5;124mw\u001b[39m\u001b[38;5;124m'\u001b[39m \u001b[38;5;129;01min\u001b[39;00m mode:\n",
      "File \u001b[1;32mc:\\Users\\laure\\anaconda3\\envs\\loopr_env\\Lib\\site-packages\\torch\\serialization.py:426\u001b[0m, in \u001b[0;36m_open_file.__init__\u001b[1;34m(self, name, mode)\u001b[0m\n\u001b[0;32m    425\u001b[0m \u001b[38;5;28;01mdef\u001b[39;00m \u001b[38;5;21m__init__\u001b[39m(\u001b[38;5;28mself\u001b[39m, name, mode):\n\u001b[1;32m--> 426\u001b[0m     \u001b[38;5;28msuper\u001b[39m()\u001b[38;5;241m.\u001b[39m\u001b[38;5;21m__init__\u001b[39m(\u001b[38;5;28mopen\u001b[39m(name, mode))\n",
      "\u001b[1;31mFileNotFoundError\u001b[0m: [Errno 2] No such file or directory: 'C:/Users/laure/Documents/proj_loopr/models_2_21_6_dropout_43tp_93tn/trained_net_70_epo.pth'"
     ]
    }
   ],
   "source": [
    "net = Net_result()\n",
    "net.load_state_dict(torch.load(\"C:/Users/laure/Documents/proj_loopr/models_2_21_6_dropout_43tp_93tn/trained_net_70_epo.pth\"))\n",
    "net.eval()"
   ]
  },
  {
   "cell_type": "code",
   "execution_count": 4,
   "metadata": {},
   "outputs": [],
   "source": [
    "img_list = retrieve_images(\"C:/Users/laure/Documents/proj_loopr/processed_images\")\n",
    "masks = retrieve_masks(\"C:/Users/laure/Documents/proj_loopr/all_masks\")\n",
    "X_test, y_test = get_windowed_data(img_list,masks)\n",
    "# name_list = sorted(os.listdir(\"C:/Users/laure/Documents/proj_loopr/processed_images\"))\n",
    "# ys = [1. if el[5:8]==\"000\" else 0. for el in name_list]\n",
    "ys = np.array(y_test).reshape((-1,1))\n",
    "ys = np.hstack(( 1-ys,ys))"
   ]
  },
  {
   "cell_type": "code",
   "execution_count": 5,
   "metadata": {},
   "outputs": [
    {
     "name": "stdout",
     "output_type": "stream",
     "text": [
      "Sensitivity: 0.6831651754552954\n",
      "Specificity: 0.9479869495544709\n"
     ]
    }
   ],
   "source": [
    "test_dataset = TensorDataset(torch.from_numpy(X_test).type(torch.FloatTensor), torch.tensor(ys))\n",
    "test_loader = DataLoader(test_dataset, batch_size=50)\n",
    "\n",
    "num_correct = 0\n",
    "true_neg = 0\n",
    "with torch.no_grad():\n",
    "    for batch, (val_inputs, val_labs) in enumerate(test_loader):\n",
    "        val_outputs = net(val_inputs).detach().numpy()\n",
    "        val_outputs = (val_outputs[:,1]>val_outputs[:,0]).astype(int)\n",
    "        num_correct += np.sum(val_labs.numpy()[:,1].flatten() * val_outputs.flatten())\n",
    "        true_neg += np.sum(val_labs.numpy()[:,0].flatten() * (1-val_outputs.flatten()))\n",
    "        # num_correct+=np.argwhere([:,1] ==val_labs.numpy()[:,1]).flatten().shape[0]\n",
    "acc = num_correct / np.sum(ys[:,1])\n",
    "tn_rate = true_neg / np.sum(ys[:,0])\n",
    "print(\"Sensitivity: \"+str(acc))\n",
    "print(\"Specificity: \"+str(tn_rate))"
   ]
  },
  {
   "cell_type": "code",
   "execution_count": 4,
   "metadata": {},
   "outputs": [
    {
     "data": {
      "text/plain": [
       "Net_result(\n",
       "  (conv1): Conv2d(84, 32, kernel_size=(1, 2), stride=(1, 2))\n",
       "  (pool): MaxPool2d(kernel_size=2, stride=2, padding=0, dilation=1, ceil_mode=False)\n",
       "  (conv2): Conv2d(32, 16, kernel_size=(2, 2), stride=(1, 2))\n",
       "  (drop): Dropout(p=0.15, inplace=False)\n",
       "  (fc1): Linear(in_features=1920, out_features=360, bias=True)\n",
       "  (fc2): Linear(in_features=360, out_features=120, bias=True)\n",
       "  (fc3): Linear(in_features=120, out_features=2, bias=True)\n",
       ")"
      ]
     },
     "execution_count": 4,
     "metadata": {},
     "output_type": "execute_result"
    }
   ],
   "source": [
    "out_model = Net_result()\n",
    "out_model.load_state_dict(torch.load(\"C:/Users/laure/Documents/proj_loopr/result_model_2_24/trained_net_50_epo.pth\"))\n",
    "out_model.eval()"
   ]
  },
  {
   "cell_type": "code",
   "execution_count": 5,
   "metadata": {},
   "outputs": [],
   "source": [
    "source_dir = \"C:/Users/laure/Documents/proj_loopr/windowed_model_outputs_2_24_57tp_90tn\"\n",
    "xs = retrieve_images(source_dir, shape=(84,10,240))\n",
    "name_list = sorted(os.listdir(source_dir))\n",
    "ys = [1. if el[5:8]==\"000\" else 0. for el in name_list]\n",
    "ys = np.array(ys).reshape((-1,1))\n",
    "ys = np.hstack((ys, 1-ys))"
   ]
  },
  {
   "cell_type": "code",
   "execution_count": 6,
   "metadata": {},
   "outputs": [
    {
     "name": "stdout",
     "output_type": "stream",
     "text": [
      "Sensitivity: 0.8653846153846154\n",
      "Specificity: 0.9929078014184397\n"
     ]
    }
   ],
   "source": [
    "final_test(out_model, xs,ys)"
   ]
  },
  {
   "cell_type": "markdown",
   "metadata": {},
   "source": [
    "### 94% accuracy total"
   ]
  },
  {
   "cell_type": "code",
   "execution_count": null,
   "metadata": {},
   "outputs": [],
   "source": []
  }
 ],
 "metadata": {
  "kernelspec": {
   "display_name": "loopr_env",
   "language": "python",
   "name": "python3"
  },
  "language_info": {
   "codemirror_mode": {
    "name": "ipython",
    "version": 3
   },
   "file_extension": ".py",
   "mimetype": "text/x-python",
   "name": "python",
   "nbconvert_exporter": "python",
   "pygments_lexer": "ipython3",
   "version": "3.11.7"
  }
 },
 "nbformat": 4,
 "nbformat_minor": 2
}
