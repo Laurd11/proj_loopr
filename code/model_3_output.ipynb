{
 "cells": [
  {
   "cell_type": "code",
   "execution_count": 1,
   "metadata": {},
   "outputs": [],
   "source": [
    "import numpy as np\n",
    "import cv2\n",
    "import matplotlib.pyplot as plt\n",
    "import torch\n",
    "from torch import nn\n",
    "import os\n",
    "# from torch.utils.data import DataLoader\n",
    "# from torchvision import datasets, transforms\n",
    "import torch.nn.functional as F\n",
    "import torch.optim as optim\n",
    "\n",
    "from torch.utils.data import TensorDataset, DataLoader, RandomSampler\n",
    "from sklearn.model_selection import train_test_split\n"
   ]
  },
  {
   "cell_type": "code",
   "execution_count": 9,
   "metadata": {},
   "outputs": [],
   "source": [
    "class Net(nn.Module):\n",
    "    def __init__(self):\n",
    "        super().__init__() # 7 x 22 x 22\n",
    "        self.conv1 = nn.Conv2d(7, 16, 4,stride=2) # 16 x 10 x 10\n",
    "        self.pool = nn.MaxPool2d(2,stride=1) # 16 x 9 x 9\n",
    "        self.conv2 = nn.Conv2d(16, 32, 3,stride=2) # 32 x 4 x 4\n",
    "        self.drop = nn.Dropout(p=0.15)\n",
    "        self.fc1 = nn.Linear( 512, 120)   \n",
    "        self.fc2 = nn.Linear(120, 84)\n",
    "        self.fc3 = nn.Linear(84, 2)\n",
    "\n",
    "    def forward(self, x):\n",
    "        x = self.pool(F.relu(self.conv1(x)))\n",
    "        x = F.relu(self.conv2(x))\n",
    "        x = torch.flatten(x,1) \n",
    "        x = self.drop(x)\n",
    "        x = F.relu(self.fc1(x))\n",
    "        x = F.relu(self.fc2(x))\n",
    "        x = F.softmax(self.fc3(x), dim=1)\n",
    "        return x\n",
    "    \n",
    "def retrieve_images(fil_dir):\n",
    "    sample_list = os.listdir(fil_dir)\n",
    "    img_list = np.zeros((len(sample_list),7,40,500))\n",
    "    ind = 0\n",
    "    for file_name in sample_list:\n",
    "        img_list[ind,:,:,:] = np.load(os.path.join(fil_dir,file_name))\n",
    "        ind+=1\n",
    "    return img_list[:ind,:,:,:]\n",
    "\n",
    "def retrieve_masks(fil_dir):\n",
    "    sample_list = os.listdir(fil_dir)\n",
    "    img_list = np.zeros((len(sample_list),40,500))\n",
    "    ind = 0\n",
    "    for file_name in sample_list:\n",
    "        if file_name[5:8] != \"000\":\n",
    "            img_list[ind,:,:] = np.load(os.path.join(fil_dir,file_name))\n",
    "            ind+=1\n",
    "    return img_list.reshape(-1,1,40,500)[:ind,:,:,:]\n",
    "\n",
    "def get_windowed_data(imgs):\n",
    "    windows_per_im = 10*240\n",
    "    fin_data = np.zeros((imgs.shape[0]*windows_per_im,7,22,22))\n",
    "    for ind in range(imgs.shape[0]):\n",
    "        fin_data[ind*windows_per_im:(ind+1)*windows_per_im,:,:,:] = sliding_window(imgs[ind,:,:,:])\n",
    "        \n",
    "    return fin_data\n",
    "\n",
    "def sliding_window(image, sq_size = 22, pix_steps=2):\n",
    "    img_list = []\n",
    "    for i in np.arange(0,image.shape[1]-sq_size+pix_steps,pix_steps):\n",
    "        for j in np.arange(0,image.shape[2]-sq_size+pix_steps,pix_steps):\n",
    "            img_list.append(image[:,i:i+sq_size,j:j+sq_size])\n",
    "    return np.array(img_list)\n"
   ]
  },
  {
   "cell_type": "code",
   "execution_count": 8,
   "metadata": {},
   "outputs": [
    {
     "data": {
      "text/plain": [
       "<All keys matched successfully>"
      ]
     },
     "execution_count": 8,
     "metadata": {},
     "output_type": "execute_result"
    }
   ],
   "source": [
    "net = Net()\n",
    "net.load_state_dict(torch.load(\"C:/Users/laure/Documents/proj_loopr/models_2_21_6_dropout_43tp_93tn/trained_net_70_epo.pth\"))"
   ]
  },
  {
   "cell_type": "code",
   "execution_count": 9,
   "metadata": {},
   "outputs": [],
   "source": [
    "img_list = retrieve_images(\"C:/Users/laure/Documents/proj_loopr/processed_images\")"
   ]
  },
  {
   "cell_type": "code",
   "execution_count": 10,
   "metadata": {},
   "outputs": [
    {
     "data": {
      "text/plain": [
       "(104, 7, 40, 500)"
      ]
     },
     "execution_count": 10,
     "metadata": {},
     "output_type": "execute_result"
    }
   ],
   "source": [
    "img_list.shape"
   ]
  },
  {
   "cell_type": "code",
   "execution_count": 11,
   "metadata": {},
   "outputs": [],
   "source": [
    "im_test = img_list[82,:,:,:].reshape(1,7,40,500)\n",
    "im_test_win = get_windowed_data(im_test, np.zeros((1,1,40,500)))"
   ]
  },
  {
   "cell_type": "code",
   "execution_count": 12,
   "metadata": {},
   "outputs": [],
   "source": [
    "im_test_torch = torch.from_numpy(im_test_win).type(torch.FloatTensor)"
   ]
  },
  {
   "cell_type": "code",
   "execution_count": 13,
   "metadata": {},
   "outputs": [],
   "source": [
    "outs_np = net(im_test_torch).detach().numpy()"
   ]
  },
  {
   "cell_type": "code",
   "execution_count": 14,
   "metadata": {},
   "outputs": [
    {
     "data": {
      "text/plain": [
       "(2400, 2)"
      ]
     },
     "execution_count": 14,
     "metadata": {},
     "output_type": "execute_result"
    }
   ],
   "source": [
    "outs_np.shape"
   ]
  },
  {
   "cell_type": "code",
   "execution_count": 26,
   "metadata": {},
   "outputs": [],
   "source": [
    "sample_list = os.listdir(\"C:/Users/laure/Documents/proj_loopr/processed_images\")\n",
    "rl_list = []\n",
    "for file_name in sample_list:\n",
    "    if file_name[5:8] != \"000\":\n",
    "        rl_list.append(file_name)\n"
   ]
  },
  {
   "cell_type": "code",
   "execution_count": 27,
   "metadata": {},
   "outputs": [
    {
     "data": {
      "text/plain": [
       "'0086_030_02.npy'"
      ]
     },
     "execution_count": 27,
     "metadata": {},
     "output_type": "execute_result"
    }
   ],
   "source": [
    "rl_list[82]"
   ]
  },
  {
   "cell_type": "code",
   "execution_count": 22,
   "metadata": {},
   "outputs": [
    {
     "data": {
      "text/plain": [
       "array([[0, 1, 2, 3, 4],\n",
       "       [0, 1, 2, 3, 4]])"
      ]
     },
     "execution_count": 22,
     "metadata": {},
     "output_type": "execute_result"
    }
   ],
   "source": [
    "np.hstack((np.arange(10).reshape((-1,1)),np.arange(10).reshape((-1,1)))).transpose().reshape((2,2,5))[:,0,:]"
   ]
  },
  {
   "cell_type": "code",
   "execution_count": 10,
   "metadata": {},
   "outputs": [],
   "source": [
    "img_list = retrieve_images(\"C:/Users/laure/Documents/proj_loopr/processed_images\")\n",
    "name_list = os.listdir(\"C:/Users/laure/Documents/proj_loopr/processed_images\")\n",
    "\n",
    "net = Net()\n",
    "net.load_state_dict(torch.load(\"C:/Users/laure/Documents/proj_loopr/models_2_21_6_dropout_43tp_93tn/trained_net_70_epo.pth\"))\n",
    "for el in range(len(name_list)):\n",
    "    im_win = get_windowed_data(img_list[el,:,:,:].reshape(1,7,40,500))\n",
    "    im_win = torch.from_numpy(im_win).type(torch.FloatTensor)\n",
    "    outs_np = net(im_win).detach().numpy()\n",
    "    outs_np = outs_np.transpose().reshape((2,240,10))\n",
    "    np.save(\"C:/Users/laure/Documents/proj_loopr/windowed_output/\"+name_list[el],outs_np)"
   ]
  },
  {
   "cell_type": "code",
   "execution_count": null,
   "metadata": {},
   "outputs": [],
   "source": []
  }
 ],
 "metadata": {
  "kernelspec": {
   "display_name": "loopr_env",
   "language": "python",
   "name": "python3"
  },
  "language_info": {
   "codemirror_mode": {
    "name": "ipython",
    "version": 3
   },
   "file_extension": ".py",
   "mimetype": "text/x-python",
   "name": "python",
   "nbconvert_exporter": "python",
   "pygments_lexer": "ipython3",
   "version": "3.11.7"
  }
 },
 "nbformat": 4,
 "nbformat_minor": 2
}
